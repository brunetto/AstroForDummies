{
 "metadata": {
  "name": ""
 },
 "nbformat": 3,
 "nbformat_minor": 0,
 "worksheets": [
  {
   "cells": [
    {
     "cell_type": "markdown",
     "metadata": {},
     "source": [
      "# Basi di matematica e fisica\n"
     ]
    },
    {
     "cell_type": "markdown",
     "metadata": {},
     "source": [
      "## Principi della termodinamica\n",
      "Il primo principio della termodinamica afferma che:\n",
      "\n",
      "\\begin{equation}\n",
      " Q = \\Delta U + W\n",
      "\\end{equation}\n",
      "\n",
      "Ovvero il calore scambiato da un sistema termodinamico con l'ambiente \\`e uguale alla somma dell'energia interna del sistema e del lavoro compiuto dall'ambiente su di esso. $\\Delta U$ \\`e una funzione di stato, dunque non dipende dal tipo di trasformazione. Il primo principio non pone limiti alle trasformazioni di energia da una forma all'altra, per\\`o sperimentalmente non esiste questa stessa simmetria. Se \\`e possibile trasformare integralmente il lavoro in calore, ad esempio sfruttando l'attrito, la trasformazione contraria di calore in lavoro \\`e limitata. Esistono due enunciati di questo \\textit{secondo principio della termodinamica}: il primo (di Kelvin-Planck) afferma che \\`e impossibile realizzare un processo che abbia come unico risultato la trasformazione in lavoro del calore fornito da una sorgente a temperatura uniforme. Il secondo (di Clausius) dice che \\`e impossibile realizzare un processo che abbia come unico risultato il trasferimento di una quantit\\`a di calore da un corpo a un altro a temperatura maggiore. \n",
      "\n"
     ]
    },
    {
     "cell_type": "markdown",
     "metadata": {},
     "source": [
      "## Teorema del viriale\n",
      "\n",
      "Il teorema del viriale afferma che in un sistema vale:\n",
      "\\begin{equation}\n",
      " 2T = U\n",
      "\\end{equation}\n",
      "Dove $T$ rappresenta l'energia cinetica del sistema, e $U$ il potenziale gravitazionale. \n",
      "\\begin{equation}\n",
      "R = c\\cdot\\tau\n",
      "\\end{equation}"
     ]
    },
    {
     "cell_type": "code",
     "collapsed": false,
     "input": [],
     "language": "python",
     "metadata": {},
     "outputs": []
    }
   ],
   "metadata": {}
  }
 ]
}