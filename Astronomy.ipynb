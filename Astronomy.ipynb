{
 "metadata": {
  "name": ""
 },
 "nbformat": 3,
 "nbformat_minor": 0,
 "worksheets": [
  {
   "cells": [
    {
     "cell_type": "markdown",
     "metadata": {},
     "source": [
      "# Astronomia di base"
     ]
    },
    {
     "cell_type": "markdown",
     "metadata": {},
     "source": [
      "## Magnitudine \n",
      "\n",
      "La magnitudine e\\` l'unita\\` di misura della luminosita\\` delle stelle, ed e\\` legata all'internsita\\` luminosa delle stelle ma anche allo stimolo visivo, che ha una risposta logaritmica. La scala delle magnitudini e\\` inversa. Il legame agli occhi umani fa si\\` che la magnitudine vari anche in funzione della lunghezza d'onda. Importante e\\` la distinzione fra magnitudine apparente e magnitudine assoluta. La prima misura la luminosita\\` dell'oggetto celeste rilevata da Terra, dunque non ha un legame effettivo con la reale luminosita\\` della sorgente, in quanto corpi lontani appaiono meno luminosi di quelli piu\\` vicini (in quanto la luminosita\\` scala con $d^{-2}$. La magnitudine assoluta invece e\\` per definizione la magnitudine di un oggetto distante 10 pc, dunque fornisce una stima della luminosita\\` indipendente dalla distanza dell'oggetto in esame. \n"
     ]
    },
    {
     "cell_type": "markdown",
     "metadata": {},
     "source": [
      "## Modulo di distanza\n",
      "Poich\\'e la magnitudine apparente di un oggetto dipende dalla distanza, conoscendo la sua magnitudine assoluta e\\` possibile determinare la sua distanza con la seguente relazione, nota come modulo di distanza:\n",
      "\\begin{equation}\n",
      " M - m = 5 - 5 \\log{D}\n",
      "\\end{equation}\n",
      "Allo stesso modo, se e\\` gia\\` nota la distanza per altre vie e\\` possibile determinare la magnitudine assoluta di un oggetto. "
     ]
    },
    {
     "cell_type": "markdown",
     "metadata": {},
     "source": [
      "## Sistema fotometrico\n",
      "\n",
      "Un sistema fotometrico e\\` un insieme di bande di filtri ciascuno con diverse sensibilita\\` alla radiazione incidente. Il primo sistema fotometrico utilizzato e\\` stato quello UBV, composto da tre bande larghe (sopra i 300 A). La banda U e\\` centrata a 3550 A, la B a 4330 A, la V a 5470A. In base alla magnitudine rilevata in ciascuna banda e\\` possibile stabilire il _colore_ di un oggetto. Nel sistema UBV si hanno tre colori: B-V, U-V e U-B. Per definizione il colore U-B di una stella A0 e\\` nullo (che significa stesse magnitudini nelle due bande, ma non stesse intensita\\`). Esistono anche altre bande fotometriche degne di nota, come G, R ancora incluse nel visibile, Y, J, H, K, L, M, N nell'infrarosso. \n"
     ]
    },
    {
     "cell_type": "markdown",
     "metadata": {},
     "source": [
      "## Assorbimento interstellare e reddening\n",
      "\n",
      "Uno dei principali problemi che si presentano nello studio degli oggetti e\\` l'assorbimento interstellare. In generale la radiazione di un corpo che attraversa uno strato spesso M di gas e\\` ridotta di un fattore $e^{-A_\\lambda M}$, dove $A_\\lambda$ e\\` la \\textit{curva dell'assorbimento interstellare}. Tale funzione ha il seguente andamento, noto come legge di Whitford: \n",
      "\\begin{equation}\n",
      "A_\\lambda = \\lambda e^{-\\alpha(\\lambda)}\n",
      "\\end{equation}\n",
      "Dove $\\alpha$ e\\` una costante dipendente dalla lunghezza d'onda, quindi la $A$ e\\` di fatto una retta, che cambia pendenza attorno a 4700 \\AA{}. \n",
      "\n",
      "Si definisce _eccesso di colore_ la quantita\\`:\n",
      "\\begin{equation}\n",
      "E(U-B) = (U-B) - (U-B)_0\n",
      "\\end{equation}\n",
      "o relazioni analoghe con gli altri colori; $(U-B)_0$ e\\` l'indice di colore intrinseco. In generale l'eccesso di colore si determina in base al tipo spettrale della stella che si sta osservando. Sperimentalmente si osserva che $E(U-B)$ e\\` piu\\` piccolo di $E(B-V)$, quindi una stella arrossata si spostera\\` nel diagramma HR che ha come assi gli indici di colore verso il basso e verso destra, seguendo una retta nota come **retta di reddening**. \n"
     ]
    },
    {
     "cell_type": "markdown",
     "metadata": {},
     "source": [
      "## Brillanza superficiale\n",
      "\n",
      "Si definisce brillanza superficiale il flusso integrato in una banda osservato sull'unita\\` di angolo solido. In generale I indica la brillanza in unita\\` lineari, come $L_{\\odot}/pc^2$, mentre $\\mu$ indica la brillanza in $mag/arcsec^2$. Tra le due grandezze esiste la relazione:\n",
      "\\begin{equation}\n",
      " \\mu = -2.5 \\log{I} + cost\n",
      "\\end{equation}\n",
      "In prima approssimazione la brillanza e\\` indipendente dalla distanza. Dato un oggetto di luminosita\\` L adistanza d, se F e\\` il flusso misurato nell'area A vista sotto l'angolo solido $\\Omega$ si ha:\n",
      "\\begin{equation}\n",
      " I = \\frac{F}{\\Omega} = \\frac{L/4\\pi d^2}{A/d^2} = \\frac{L}{4\\pi A}\n",
      "\\end{equation}\n",
      "Tale relazione tuttavia vale nell'ipotesi in cui la luminosita\\` non dipenda dal redshift dell'oggetto. "
     ]
    },
    {
     "cell_type": "markdown",
     "metadata": {},
     "source": [
      "## Isofote \n",
      "\n",
      "Si definiscono isofote di una galassia i luoghi dei punti di uguale brillanza superficiale. Poich\\'e le galassie non hanno contorni netti, si usa definire la loro estensione mediante il diametro isofotale, cioe\\` il diametro misurato lungo l'asse maggiore di una isofota di brillanza fissata. Nei cataloghi si trova spesso tabulato il diametro delle isofote di brillanza $\\mu = 25 mag/arcsec^2$, detto diametro di de Vauculers. Si definisce come luminosita\\` totale di una galassia la grandezza:\n",
      "\\begin{equation}\n",
      " L_T = \\int_0^{2\\pi} \\int_0^\\infty I(r,\\theta)r dr d\\theta\n",
      "\\end{equation}\n",
      "L'integrale sull'angolo, in caso di isofote circolari, vale ovviamente $2\\pi$. Sia $A$ l'area definita da un'isofota, si definisce \\textit{raggio equivalente} dell'isofota come $r^* = \\sqrt{A/\\pi}$, cioe\\` il raggio della corrispondente isofota circolare che ha la stessa area di quella considerata. La luminosita\\` integrata entro il raggio equivalente $L(r^*)$ e\\` la luminosita\\` totale calcolata entro il raggio dell'isofota. Si definisce luminosita\\` integrata relativa come frazione di luminosita\\` emessa entro l'area A, cioe\\`:\n",
      "\\begin{equation}\n",
      " k(r^*) = \\frac{L(r^*)}{L_T}\n",
      "\\end{equation}\n",
      "Si definisce \\textit{raggio equivalente efficace} il raggio che racchiude meta\\` della luminosita\\` della galassia: \n",
      "\\begin{equation}\n",
      " k(r^*_e) = \\frac{1}{2}\n",
      "\\end{equation}\n",
      "Allo stesso modo la brillanza superficiale efficace e\\` definita come la brillanza osservata a $r_e^*$.\n",
      "\n",
      "Altri raggi importanti, validi anche per gli ammassi globulari, sono il raggio di core e il raggio mareale. Il primo e\\` definito come la distanza in cui la luminosita\\` apparente dell'oggetto e\\` meta\\` della luminosita\\` centrale. Il raggio mareale infine e\\` la distanza oltre la quale le stelle di un ammasso risentono piu\\` dell'influenza della galassia che di quella dell'ammasso stesso; i corpi oltre questo limite quindi possono essere strappati al campo gravitazionale dell'ammasso. \n",
      " "
     ]
    },
    {
     "cell_type": "markdown",
     "metadata": {},
     "source": [
      "## Scala delle distanze\n",
      "\n",
      "Per ricavare la distanza degli oggetti celesti si utilizzano diversi indicatori, ciascuno di essi adatto per diverse fasce di distanza. Il primo metodo e\\` la parallasse, ovvero l'angolo definito come meta\\` del massimo spostamento angolare sotto cui si osserva un corpo rispetto ad uno sfondo fisso. Se l'unita\\` di misura della distanza e\\` il parsec, la legge di distanza e\\` nella forma:\n",
      "\\begin{equation}\n",
      " D = \\frac{1}{p''} pc\n",
      "\\end{equation}\n",
      "In base alla parallasse quindi e\\` definito il parsec: esso consiste nella distanza sotto la quale il semiasse maggiore dell'orbita terrestre appare sotteso da un angolo di un secondo d'arco. Sapendo che il semiasse dell'orbita terrestre corrisponde a 1 unita\\` astronomica, si ricava che 1 pc = 206265 UA. Con i mezzi attuali, la parallasse non consente di misurare distanze superiori ai 200 pc; sfruttando la parallasse secolare, che sfrutta il moto di rivoluzione del Sole intorno al centro galattico per ampliare la base geodetica, si arriva fino a 500 pc. \n",
      "\n",
      "Oltre si possono utilizzare gli indicatori primari, per cui esistono relazioni calibrati con alcuni tipi di oggetti, la cui distanza e\\` stata valutata per la prima volta con gli indicatori geometrici. A questa classe appartengono le Cefeidi, le RR Lyrae, le novae e le supernovae. Usando la relazione di distanza delle Cefeidi ad esempio si puo\\` arrivare a calcolare distanze fino a 17 Mpc, all'incirca nell'ammasso della Vergine. Ancora piu\\` efficienti sono novae e supernovae. Le prime, la cui luminosita\\` intrinseca arriva fino a $M_v \\sim 7$, si presentano sia in galassie ellittiche che nelle spirali, e sono generate da nane bianche su cui cade del materiale. Le supernovae Ia sono anch'esse candele standard, la cui magnitudine arriva a -19.5, costituite da nane bianche che in un sistema binario collidono con la loro compagna; il sistema binario infatti diventa via via piu\\` stretto con l'emissione di onde gravitazionali. \n",
      "\n",
      "Altro metodo, utile per le distanze galattiche, e\\` l'osservazione della curva di rotazione. La velocita\\` di rotazione infatti e\\` legata alla massa e, di conseguenza, alla luminosita\\` della galassia. A scale ancora maggiori si puo\\` utilizzare l'effetto Sunyaev-Zel'dovich: i fotoni ad alto redshift formatisi con il Big Bang infatti arrivano a volte sulla Terra dopo aver attraversato ammassi di galassie, e di conseguenza hanno subito uno scattering Compton che ne ha diminuito la frequenza. Questo permette di ricavare la profondita\\` ottica degli ammassi e, combinando il valore con le osservazioni in X, si puo\\` determinare la distanza degli ammassi. Infine la tecnica piu\\` importante per la stima delle distanze e\\` la \\textbf{legge di Hubble}:\n",
      "\\begin{equation}\n",
      " D = \\frac{v_r}{H_0} = \\frac{cz}{H_0}\n",
      "\\end{equation}\n",
      "dove $H_0$ e\\` la costante di Hubble, il cui valore e\\` attorno a 72 Km/s Mpc. L'interpretazione immediata della legge e\\` che l'universo si espande, e l'inverso della costante di Hubble permette di stimarne l'eta\\`. Per ottenere una stima piu\\` corretta della distanza, a grandi redshift e\\` conveniente usare la relazione relativistica:\n",
      "\\begin{equation}\n",
      " z = \\sqrt{\\frac{1 + \\frac{v_r}{c}}{1-\\frac{v_r}{c}}}-1\n",
      "\\end{equation}"
     ]
    },
    {
     "cell_type": "markdown",
     "metadata": {},
     "source": [
      "## Criterio di Jeans\n",
      "\n",
      "Il criterio di Jeans e\\` fondamentale per la formazione delle strutture dal collasso di nubi di gas. Se si considerano delle perturbazioni infinitesime sui parametri velocita\\`, pressione, densita\\` e potenziale nelle equazioni della fluidodinamica, tutte regolate da un'equazione del tipo $X \\propto \\exp{i(k\\cdot r - \\omega t)}$, se vale $dP = c_s^2 d\\rho$, dove $c_s$ e\\` la velocita\\` del suono, si puo\\` trovare una relazione fra i parametri $\\omega$ e $\\vec{\\kappa}$ della perturbazione, nota come relazione di dispersione:\n",
      "\\begin{equation}\n",
      " \\omega^2 = k^2 c_s^2 - 4\\pi G \\rho_0\n",
      "\\end{equation}\n",
      "Da questa relazione si puo\\` vedere se una perturbazione portera\\` o meno al collasso della nube. Poich\\'e la funzione d'onda e\\` un esponenziale, si puo\\` vedere che se $\\alpha = kr - \\omega t$ e\\` un numero complesso l'onda diventa un esponenziale reale, e tende ad aumentare (o diminuire) la sua ampiezza. Se invece $\\alpha$ e\\` reale, la perturbazione resta una sinusoide, che non ha effetti sulla nube. Insomma, se $k^2c^2 < 4\\pi G \\rho$ la perturbazione diverge. La relazione di dispersione permette di ricavare un valore critico di $k$ per cui se $k < k_s$ si ha il collasso. Questo valore corrisponde a una lunghezza d'onda della perturbazione $\\lambda_J$; la massa di una nube di diametro $\\lambda_J$ e\\` nota come \\textbf{massa di Jeans}. Tutti i valori di massa superiori alla massa di Jeans fanno collassare la nube. Poich\\'e vale:\n",
      "\\begin{equation}\n",
      " M_J \\propto T^{3/2} \\rho^{-1/2}\n",
      "\\end{equation}\n",
      "la temperatura e\\` un fattore stabilizzante per il collasso, mentre la densita\\` tende ad accelerarlo. Poiche\\' nelle prime fasi di contrazione di una nube ad aumentare e\\` solo quest'ultima (il fenomeno e\\` isotermo) la massa di Jeans scende e il processo e\\` a cascata. \n"
     ]
    },
    {
     "cell_type": "markdown",
     "metadata": {},
     "source": [
      "## Limite di Eddington\n",
      "\n",
      "Il limite di Eddington e\\` la massima luminosita\\` consentita per una stella quando essa e\\` in equilibrio idrostatico fra la sua gravita\\` e la pressione di radiazione. Per luminosita\\` superiori a tale limite, la pressione di radiazione e\\` tanto grande da disperdere gli strati superficiali dell'oggetto e distruggerlo. Tale limite si ricava semplicemente uguagliando la gravita\\` alla pressione. Manipolando le equazioni si ricava: \n",
      "\\begin{equation}\n",
      " L_{edd} = \\frac{4\\pi G M m_p c}{\\sigma_T} = 3.2 \\times 10^4 \\frac{M}{M_\\odot} L_\\odot\n",
      "\\end{equation}\n",
      "Tale legge e\\` valida per una stella di solo idrogeno; $\\sigma_T$ e\\` la sezione d'urto Thomson per un elettrone. Esempi di sistemi che eccedono questa luminosita\\` sono le supernovae, le novae e i GRB. \n"
     ]
    },
    {
     "cell_type": "markdown",
     "metadata": {},
     "source": [
      "## Velocita\\` delle stelle vicine\n",
      "\n",
      "### Moti propri\n",
      "\n",
      "Si consideri una stella su cui si centra una terna di coordinate: il primo asse e\\` la congiungente Sole - Stella, il secondo e\\` tangente al meridiano e diretto verso il Polo Nord, e il terzo orientato per rendere la terna ortogonale e levogira. Sia $v$ la velocita\\` della stella, con le tre componenti $v_\\alpha$, $v_\\delta$ e $v_r$. Ora, detto $\\mu$ il moto proprio della stella sulla sfera celeste, scomponibile in $\\mu_\\alpha$ e $\\mu_\\delta$, definiti rispettivamente come velocita\\` angolare in ascensione retta e declinazione, se la distanza della stella e\\` $r$ si ha: $v_\\delta = \\mu_\\delta r$ e $v_\\alpha = \\mu_\\alpha r \\cos{\\delta}$. Per trovare la velocita\\` radiale si puo\\` utilizzare semplicemente l'effetto Doppler, $v_r = cz$. Note le tre componenti si ricava quindi subito la velocita\\` reale della stella nello spazio. \n",
      "\n",
      "### Ellissoide delle velocita\\`\n",
      "\n",
      "Considerato lo spazio delle velocita\\` delle stelle vicine al Sole, si introduce una terna cartesiana $\\dot{x}$, $\\dot{y}$ e $\\dot{z}$ in modo che ogni stella sia individuata da un punto le cui coordinate siano le velocita\\` rispetto al Sole, posto nell'origine degli assi. Si vuole trovare una funzione di frequenza che rappresenti la loro distribuzione. Il modello proposto da Schwarzchild ipotizza che nello spazio delle velocita\\` ci sia un punto, detto \\textit{centroide}, tale che su ogni retta passante per esso la distribuzione delle densita\\` sia di tipo gaussiano, con varianza funzione della direzione della retta, il che e\\` possibile ammettendo che le superfici equidense siano degli ellissoidi triassiali. Considerando una terna centrata in C con assi coincidenti con quelli degli elissoidi, detto Sistema Principale, l'espressione della funzione di distribuzione e\\`:\n",
      "\\begin{equation}\n",
      " \\Phi(\\xi, \\eta, \\zeta) = C e^{-\\frac{1}{2}\\big[\\big(\\frac{\\xi}{\\sigma_1}\\big)^2 + \\big(\\frac{\\eta}{\\sigma_2}\\big)^2 + \\big(\\frac{\\zeta}{\\sigma_3}\\big)^2\\big]}\n",
      "\\end{equation}\n",
      "dove le $\\sigma$ sono le varianze rispetto agli assi. Tale distribuzione e\\` una costante quando l'esponente e\\` costante. Quando in particolare si ha:\n",
      "\\begin{equation}\n",
      " \\left(\\frac{\\xi}{\\sigma_1}\\right)^2 + \\left(\\frac{\\eta}{\\sigma_2}\\right)^2 + \\left(\\frac{\\zeta}{\\sigma_3}\\right)^2 = 1\n",
      "\\end{equation}\n",
      "questo ellissoide triassiale e\\` noto come \\textbf{ellissoide delle velocita\\`}, in cui si ha che $\\Phi = c/\\sqrt{e}$. Nello spazio reale l'asse maggiore dell'ellissoide e\\` diretto verso il centro della Galassia, mentre l'asse minore e\\` diretto ai poli. Si puo\\` vedere dai dati che le coordinate di C corrispondono a quelle del baricentro delle stelle vicine; per questo si puo\\` definire una velocita\\` peculiare per ciascuna stella come differenza fra la sua velocita\\` e quella del baricentro, $\\dot{x}_p = \\dot{x} - \\dot{x}_0$. Per il Sole ovviamente $\\dot{x}_{p\\odot} = -\\dot{x}_0$: questo moto e\\` quello verso l'\\textit{apice solare}. Un sistema di coordinate entrato in C e con assi paralleli alla terna $\\dot{x}$, $\\dot{y}$, $\\dot{z}$ e\\` chiamato \\textbf{local standard of rest}; in pratica le velocita\\` peculiari sono le velocita\\` delle stelle rispetto al LSR. \n",
      "\n",
      "### Formule di Oort\n",
      "\n",
      "Si consideri un sistema di coordinate galattocentriche in cui $R$ e\\` la distanza dal centro, $z$ l'altezza sul piano galattico e $\\theta$ l'angolo fra la direzione centro-stella e la direzione centro-Sole. Definito il centroide di un insieme di stelle non solo come il baricentro delle velocita\\` ma anche come il baricentro del volume, si possono fare le seguenti ipotesi:\n",
      "\n",
      "1. La galassia ha simmetria cilindrica ed e\\` stazionaria, cioe\\` la funzione di distribuzione nello spazio delle fasi ha derivata temporale nulla. \n",
      "2. I centroidi del piano galattico si muovono su questo descrivendo orbite circolari rispetto al centro.\n",
      "3. I centroidi a basso z si muovono in modo che le proiezioni delle loro orbite sul piano galattico siano circolari.\n",
      "4. I moti peculiari delle stelle rispetto al loro centroide sono dovute al fatto che le orbite delle singole stelle sono lievemente eccentriche ed inclinate sul piano.\n",
      "\n",
      "In queste ipotesi si possono ottenere le formule di Oort, espresse in coordinate galattiche:\n",
      "\\begin{equation}\n",
      "v_r = A r\\cos^2{b} \\sin{2(l-l_0)}\n",
      "\\end{equation}\n",
      "\\begin{equation}\n",
      " k \\mu_l = B + A \\cos{2(l-l_0)}\n",
      "\\end{equation}\n",
      "\\begin{equation}\n",
      " k\\mu_b = -\\frac{1}{2}A \\sin{2b} \\sin{2(l-l_0)}\n",
      "\\end{equation}\n",
      "A e B sono costanti misurabili con l'osservazione. La prima formula fornisce le velocita\\` radiali rispeto al centroide solare dei centroidi del piano galattico la cui distanza dal Sole $r$ sia piu\\` piccola di $R_0$; come si vede e\\` una sinusoide con ampiezza dipendente da $r$. La seconda equazione fornisce il moto proprio in longitudine galattica, che non dipende dalla distanza dal Sole. Infine la terza e\\` il moto proprio in latitudine galattica, anch'esso una sinusoide con ampiezza massima per $b = \\pm \\pi/4$. \n",
      "\n",
      "### Curve di rotazione\n",
      "\n",
      "La rotazione delle galassie e\\` piu\\` evidente nelle spirali, il cui andamento tipico e\\` costituito da una prima parte approssimabile ad una retta, che indica una rotazione rigida delle regioni interne, e una seconda zona corrispondente a una rotazione kepleriana delle stelle attorno al nucleo. Il punto di massima velocita\\` e\\` il _turning point_. Tale comportamento e\\` dovuto alla presenza di un campo di forza gravitazionale $K(R)$ del tipo:\n",
      "\\begin{equation}\n",
      "K(R) = c_1 R + c_2 R^{-2}\n",
      "\\end{equation}\n",
      "dove le costanti $c_i$ dipendono dalle costanti di Oort. Tale potenziale diverge tuttavia nell'origine. Un altro possibile potenziale e\\` quello fornito da Bottingler:\n",
      "\\begin{equation}\n",
      " K(R) = \\frac{a_1 R + a_2 R^2}{1 + b_1 R^3 + b_2 R^4}\n",
      "\\end{equation}\n",
      "Tale equazione trova applicazione negli studi sulla riga 21 cm dell'idrogeno, che ha permesso di studiare la curva di rotazione della Via Lattea. Si e\\` stabilito quindi che l'idrogeno e\\` concentrato su un piano sottile, spesso in media 220 pc, e che il Sole si trova a 4 pc dal piano galattico. \n"
     ]
    },
    {
     "cell_type": "code",
     "collapsed": false,
     "input": [],
     "language": "python",
     "metadata": {},
     "outputs": []
    }
   ],
   "metadata": {}
  }
 ]
}