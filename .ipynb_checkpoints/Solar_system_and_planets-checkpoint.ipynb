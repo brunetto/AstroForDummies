{
 "metadata": {
  "name": ""
 },
 "nbformat": 3,
 "nbformat_minor": 0,
 "worksheets": [
  {
   "cells": [
    {
     "cell_type": "markdown",
     "metadata": {},
     "source": [
      "# Sistema solare e pianeti extrasolari"
     ]
    },
    {
     "cell_type": "markdown",
     "metadata": {},
     "source": [
      "## Leggi di Keplero\n",
      "\n",
      "* Rispetto al Sole ogni pianeta descrive un'orbita ellittica di cui il Sole occupa uno dei fuochi. \n",
      "* Il raggio vettore dal Sole a un pianeta descrive aree proporzionali ai tempi impiegati a descriverle; in altri termini, il moto di un pianeta rispetto al Sole si svolge con velocita\\` areolare costante. \n",
      "* I quadrati dei periodi di rivoluzione dei vari pianeti intorno al Sole sono proporzionali ai cubi dei semiassi maggiori delle rispettive orbite ellittiche. \n"
     ]
    },
    {
     "cell_type": "markdown",
     "metadata": {},
     "source": [
      "## Problema dei due corpi\n",
      "\n",
      "Il problema dei due corpi consiste nella descrizione del modo di due corpi puntiformi sotto l'azione delle sole forze di interazione fra i due corpi stessi; la loro massa, essendo le dimensioni degli oggetti trascurabili rispetto alle distanze in gioco, si considera tutta concentrata nel baricentro. I risultati ottenuti mediante l'applicazione della meccanica classica vanno tuttavia estesi in relativita\\` generale. \n",
      "\n",
      "Nel caso astronomico, la forza di interazione tra i due corpi e\\` la gravita\\` newtoniana. Si puo\\` dimostrare che nel riferimento baricentrico, l'energia cinetica, quella potenziale e la lagrangiana del sistema che soddisfa le equazioni di Lagrange, coincidono formalmente con quelle di un ipotetico corpo di massa pari alla massa ridotta, in movimento in un campo di forze centrale simmetrico rispetto all'origine delle coordinate; la distanza del corpo fittizio dall'origine coincide con la distanza reciproca fra le due particelle. Altra considerazione importante e\\` quella sulla costanza del momento della quantita\\` di moto rispetto al centro: il movimento delle particelle infatti avviene sempre sullo stesso piano. \n",
      "\n",
      "Dall'analisi della traiettoria si trova che essa e\\` descritta da una conica, avente il fuoco nel centro delle coordinate, ed equazione in coordinate polari:\n",
      "\\begin{equation}\n",
      "\\frac{1}{r} = \\frac{1}{p}[1 + e\\cos{(\\phi - \\phi_0)}]\n",
      "\\end{equation}\n",
      "dove $p$ ed $e$ sono un parametro e l'eccentricita\\` dell'orbita. Il valore di $e$ dipende dal segno dell'energia del moto: se l'energia e\\` negativa $e < 1$, dunque si ha uno stato legato e un'orbita ellittica (o circolare se $e = 0$), quando l'energia e\\` nulla si ha $e=1$ e dunque un'orbita parabolica, mentre infine se l'energia e\\` positiva $e > 1$ e l'orbita e\\` iperbolica. Nel caso legato il semiasse maggiore dell'orbita e\\` dato da:\n",
      "\\begin{equation}\n",
      "a = \\frac{p}{1-e^2}\n",
      "\\end{equation}\n",
      "Ritornando alla descrizione relativa del moto, con coordinate centrate in uno dei due corpi, si trovano gli stessi risultati, dunque orbite vere e baricentriche sono omotetiche fra loro. \n"
     ]
    },
    {
     "cell_type": "markdown",
     "metadata": {},
     "source": [
      "## Lobi di Roche e punti lagrangiani\n",
      "\n",
      "In un sistema a due corpi, centrato un sistema di riferimento in G, con asse z normale al piano dell'orbita e asse x coincidente con la congiungente delle stelle, il potenziale per unita\\` di massa in un punto P e\\`:\n",
      "\\begin{equation}\n",
      "U(r) = \\frac{Gm_1}{r_1} + \\frac{Gm_2}{r_2} + \\frac{\\Omega^2}{2}(x^2 + y^2)\n",
      "\\end{equation}\n",
      "dove $\\Omega$ e\\` la velocita\\` angolare del sistema data dalla terza legge di Keplero. I primi due termini sono i potenziali gravitazionali delle stelle, il terzo e\\` il potenziale centrifugo. Con un cambio di coordinate in cui si passa alla massa ridotta $\\mu$ si ottiene:\n",
      "\\begin{equation}\n",
      "\\frac{\\mu}{r_1} + \\frac{1 - \\mu}{r_2} + \\frac{x^2+y^2}{2} = cost\n",
      "\\end{equation}\n",
      "L'equazione descrive una serie di superfici equipotenziali, ed e\\` nota come \\textit{modello di Roche}. Su queste superfici si possono identificare 5 punti notevoli, detti \\textit{punti lagrangiani}. Il punto $L_1$, o punto interno, e\\` situato a meta\\` strada fra i due punti materiali, i punti $L_2$ ed $L_3$ sono invece posti all'esterno del sistema. Questi tre punti sono di equilibrio instabile. Gli altri due punti, $L_4$ ed $L_5$, sono noti come punti equilateri, poiche\\` formano un triangolo equilatero con i due punti materiali, e sono di equilibrio stabile. In condizioni normali la superficie libera di un fluido deve coincidere con una delle superfici equipotenziali: per questo se una stella in un sistema binario aumenta di dimensioni, la sua forma cambia fino a occupare l'intero lobo interno a $L_1$, cioe\\` il suo \\textit{lobo di Roche}. Quando il raggio di una stella supera quello del suo lobo di Roche, essa inizia a riversare materiale sulla compagna, cosa che accade nelle fasi finali della vita stellare, quando essa e\\` nello stadio di gigante rossa. \n"
     ]
    },
    {
     "cell_type": "markdown",
     "metadata": {},
     "source": [
      "## Nube di Oort e fascia di Kuiper\n",
      "\n",
      "La fascia di Kuiper e\\` una regione del Sistema Solare che si estende da 30 fino a 50 AU, e consiste in una fascia di asteroidi e comete esterna ai pianeti. Il piu\\` grande oggetto di questa fascia, da cui si ritiene provengano le comete di corto periodo come la Halley, e\\` il pianeta nano Eris. La maggior parte degli oggetti e\\` composto di ghiaccio e ha la stessa composizione chimica delle comete, inclusi diversi composti organici. Alcuni di essi inoltre e\\` posto in risonanza orbitale con Nettuno, soprattutto quelli le cui orbite eccentriche intersecano quella del pianeta. La temperatura degli oggetti e\\` molto bassa, al punto che l'emissione cade nella regione dei 60 $\\mu m$, nell'IR. \n",
      "\n",
      "La nube di Oort e\\` invece un ipotetico guscio sferico che circonda l'intero Sistema Solare, situato a una distanza fra 20.000 e 100.000 AU. Si pensa che tale nube sia costituita interamente da comete; alcune di esse, a causa di perturbazioni gravitazionali dovute alle stelle vicine, occasionalmente cade verso il Sistema Solare interno, dando origine alle comete di lungo periodo. L'esistenza della nube e\\` stata ipotizzata per spiegare l'attuale esistenza di questi oggetti: poich\\'e nei loro passaggi nei dintorni del Sole esse vengono gradualmente consumate, se si fossero originate nel Sistema Solare interno ad oggi sarebbero state tutte completamente distrutte. La nube nel complesso e\\` suddivisa in due parti distinte: una componente sferica esterna, fra le 20 e 50mila AU, e una toroidale piu\\` interna, fra le 2000 e 20mila AU. Quella esterna e\\` scarsamente legata al Sole, ed e\\` il serbatoio delle comete di lungo periodo; quella interna, nota anche come nube di Hills, e\\` assai piu\\` densa, e costituirebbe la fonte delle comete della regione esterna. \n"
     ]
    },
    {
     "cell_type": "markdown",
     "metadata": {},
     "source": [
      "## Velocita\\` di fuga\n",
      "\n",
      "Nelle atmosfere planetarie e\\` fondamentale la grandezza nota come velocita\\` di fuga: \n",
      "\\begin{equation}\n",
      "v_f = \\sqrt{\\frac{2GM}{R}} \\sim 0.75 \\cdot 10^{-3} R\\sqrt{\\rho} \\ cm \\cdot s^{-1}\n",
      "\\end{equation}\n",
      "La densita\\` dell'atmosfera ha quindi una importante influenza sulla velocita\\` di fuga: i valori maggiori saranno per la Terra e Mercurio, quello minore per Saturno. Nel caso di una cometa, si ha $v_f \\sim 3$ $mm/s$, e la rotazione influisce anch'essa facendo scendere la velocita\\` di fuga. La velocita\\` termina del gas e\\` invece regolata dall'equazione di Maxwell, con valore piu\\` probabile $v_t = \\sqrt{2kT/m}$. Poich\\'e la temperatura dipende dalla quota, questo valore e\\` molto variabile, e puo\\` superare la velocita\\` di fuga. Tuttavia anche se cosi\\` non fosse, essendo la distribuzione di Maxwell normalizzata, ci saranno sempre delle particelle con velocita\\` di agitazione maggiore di quella di fuga. Si puo\\` dimostrare che, in un tempo scala di 4.5 Gyr, solo le particelle con $v < v_f/6$ non evaporano. Tale meccanismo e\\` noto come **perdita di Jeans**. Anche per questo motivo corpi delle dimensioni di Mercurio e della Luna non riescono a trattenere una significativa atmosfera, anche se questa, in passato a alta temperatura o nel presente a causa del bombardamento meteoritico o fotonico, puo\\` essere emessa dal terreno. Di questo fenomeno si e\\` gia\\` ottenuta prova sperimentale. \n"
     ]
    },
    {
     "cell_type": "markdown",
     "metadata": {},
     "source": [
      "## Tecniche di ricerca di pianeti extrasolari\n",
      "\n",
      "1. **Velocita\\` radiali:** considerando il sistema pianeta-stella come una binaria, nello spettro unito dei due oggetti si osserva uno spostamento Doppler periodico verso il blu o verso il rosso. Osservando piu\\` spettri nel tempo si ottiene l'intera curva di velocita\\` radiale. \n",
      "2. **Astrometria:** consiste nel misurare spostamenti radiali della stella dovuti al pianeta. Questa misura porta ad un effetto di selezione, in quanto porta a privilegiare pianeti massicci e vicini alla stella. \n",
      "3. **Transito:** consiste nel rilevare l'oscuramento della stella da parte del pianeta quando quest'ultimo transita davanti all'astro. E\\` ovvio come questa tecnica possa funzionare solo per le rare orbite allineate con la linea di vista. \n",
      "4. **Microlenti:** si verificano quando pianeta e stella si allineano con un oggetto lontano, focalizzandone la luce. Anch'esso, visto la rarita\\` degli allineamenti, non si osserva spesso. \n",
      "5. **Dischi circumstellari:** osservando i dischi di polvere attorno alle stelle, si puo\\` verificare l'esistenza di un eventuale gap, che indica l'esistenza di un pianeta che ha ripulito la sua orbita. \n"
     ]
    },
    {
     "cell_type": "code",
     "collapsed": false,
     "input": [],
     "language": "python",
     "metadata": {},
     "outputs": []
    }
   ],
   "metadata": {}
  }
 ]
}