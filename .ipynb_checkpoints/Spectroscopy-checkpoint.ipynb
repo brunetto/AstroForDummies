{
 "metadata": {
  "name": ""
 },
 "nbformat": 3,
 "nbformat_minor": 0,
 "worksheets": [
  {
   "cells": [
    {
     "cell_type": "markdown",
     "metadata": {},
     "source": [
      "# Spettroscopia"
     ]
    },
    {
     "cell_type": "markdown",
     "metadata": {},
     "source": [
      "## Righe \n",
      "\n",
      "Le righe in emissione e in assorbimento si generano per variazioni nel livello energetico degli elettroni. Questi ultimi negli atomi sono confinati negli orbitali, ciascuno caratterizzato da un preciso valore di momento angolare e di energia. Se un elettrone sale di livello si ha una riga di assorbimento, se accade il contrario si ha una riga di emissione. Gli spettri degli elementi chimici sono caratterizzati da diverse serie di righe. L'esempio principale e\\` quello dell'idrogeno, con le serie di Lyman, Balmer e le altre ai livelli superiori. \n",
      "\n",
      "Tuttavia nelle transizioni degli elettroni vi sono delle regole fondamentali che devono essere rispettate, note come _regole di selezione_. Esse sono $\\Delta S = 0$, $\\Delta L = 0, \\pm 1$, $\\Delta J = 0,\\pm 1$ ma non si pu\u00f2 avere una transizione da $J = 0$ a $J = 0$. Tali regole tuttavia possono essere violate in alcuni casi, in particolare quando il gas emettente \u00e8 molto rarefatto. Se infatti un livello proibito viene popolato per urto, a basse densita\\` l'unico modo che ha l'elettrone di tornare al livello inferiore e\\` emettere un fotone a una lunghezza d'onda proibita. Si generano cosi\\` le _righe proibite_. Righe fra i livelli $^3P$-$^1D$ sono proibite per $\\Delta S = 1$, e quelle $^3P_0$-$^1D_2$ per la violazione di $\\Delta J$, e sono note come _righe nebulari_. Le transizioni D-S che violano $\\Delta L$ e $\\Delta J$, come [OI] $\\lambda$ 5577 A sono dette _righe aurorali_.\n",
      "\n",
      "### Riga 21 cm\n",
      "\n",
      "La riga 21 cm e\\` una transizione proibita che si origina dalla variazione di spin dell'unico elettrone dell'idrogeno da parallelo ad antiparallelo. Sebbene sia proibita e la sua probabilita\\` di formazione sia bassissima, l'abbondanza dell'idrogeno la rende di gran lunga una delle righe dominanti nel radio. Tale riga si forma a temperature comprese fra 10 e 100 K. Poich\\'e il gas interstellare e\\` trasparente alle onde radio, questa riga puo\\` essere utilizzata per studiare le regioni piu\\` interne della galassia. E\\` proprio utilizzando questa riga che si e\\` scoperta la struttura a spirale della Via Lattea. Piu\\` in generale la 21 cm si usa per tracciare l'idrogeno presente nelle galassie. Dato che la curva di rotazione di HI e\\` generalmente piatta, essa ha un profilo integrato a \"doppio corno\" che permette precise misure di velocita\\` radiali e larghezza di riga.\n",
      "\n",
      "### Allargamento delle righe\n",
      "\n",
      "Il parametro fondamentale per misurare la larghezza delle righe e\\` la larghezza equivalente. Definita la profondita\\` della riga come $R_\\nu = (F_c - F_\\nu)/F_c$, la sua larghezza e\\`: \n",
      "\\begin{equation}\n",
      "W_\\nu = \\int_{riga} R_\\nu d\\nu\n",
      "\\end{equation}\n",
      "In teoria le righe dovrebbero assorbire ad una frequenza ben definita, e dunque essere infinitamente sottili. La loro larghezza e\\` dovuta al principio di indeterminazione di Heisenberg, che fa si\\` che i livelli energetici non siano perfettamente sottili. Essendo infatti $\\Delta E \\Delta t \\sim \\hbar$, si ha $h\\Delta\\nu = \\Delta E \\sim \\hbar / \\Delta T = \\hbar A_{nm}$, dove $A_{nm}$ e\\` il coefficiente di Einstein che fornisce la probabilita\\` di transizione spontanea. Quindi la larghezza della riga dovuta a questo fenomeno, noto come damping, $\\gamma$ e\\` proporzionale ad $A_{nm}$. \n",
      "\n",
      "In molti casi tuttavia l'allargamento e\\` principalmente dovuto all'agitazione termina piuttosto che al damping (allargamento naturale). Dalla distribuzione delle velocita\\` di Maxwell infatti si puo\\` ricavare il seguente allargamento Doppler: \n",
      "\\begin{equation}\n",
      "\\frac{\\Delta \\omega}{\\omega_0} = -\\frac{\\xi}{c}\n",
      "\\end{equation}\n",
      "dove $\\xi$ e\\` la componente x della velocita\\`. In generale comunque si deve tener conto di entrambe le componenti, damping ($\\gamma)$ e Doppler ($\\Delta \\omega$), poich\\'e il primo domina le ali della riga, e il secondo il centro. Il profilo complessivo e\\` detto _profilo di Voigt_, e dipende dal rapporto dei due parametri. \n"
     ]
    },
    {
     "cell_type": "markdown",
     "metadata": {},
     "source": [
      "## Transizioni molecolari\n",
      "\n",
      "Gli spettri molecolari presentano un aspetto molto diverso da quelli atomici, apparendo costituiti da diverse _bande_, ciascuna delle quali e\\` composta da diverse righe. Questo e\\` dovuto al fatto che, oltre a non esserci un campo di forze centrale, mentre in un atomo e\\` possibile trascurare il moto nucleare, in una molecola i nuclei possono vibrare attorno alle loro posizioni di equilibrio e l'intero sistema puo\\` ruotare attorno al centro di massa. L'energia di ciascuno di questi moti e\\` quantizzata, per cui ci si aspettano piu\\` livelli energetici in una molecola che in un atomo. Inoltre questi moti interagiscono fra loro, dando luogo a termini misti. L'energia insomma di una molecola e\\`:\n",
      "\\begin{equation}\n",
      "E = E_e + E_v + E_r\n",
      "\\end{equation}\n",
      "con $E_e \\gg E_v \\gg E_r$. Ogni livello elettronico e\\` diviso in vari livelli vibrazionali, caratterizzato da un numero quantico $v$ analogo a quello principale, e ogni livello vibrazionale e\\` ulteriormente suddiviso in vari livelli rotazionali caratterizzati dal numero quantico $J$. In generale, gli spettri rotazionali si collocano a grandi lunghezze d'onda, nel radio e nel millimetrico, quelli vibrazionali nel NIR, mentre nel visibile e in UV si trovano quelli elettronici. \n"
     ]
    },
    {
     "cell_type": "markdown",
     "metadata": {},
     "source": [
      "## Classificazione stellare\n",
      "\n",
      "Per classificare le stelle in diversi tipi spettrali si seguono alcune regole: la prima e\\` stabilire l'andamento del continuo con la lunghezza d'onda e le intensita\\` di righe e bande di assorbimento. Poi si effettua la classificazione confrontando lo spettro di una stella generica con uno spettro della sequenza campione. Infine, in base alla classificazione, si stabilisce come variano i parametri fisici (temperatura, luminosita\\`) con il tipo spettrale. La principale classificazione spettrale suddivide le stelle in 7 intervalli di temperatura, O, B, A, F, G, K, M, suddivisi a loro volta in 10 sottotipi indicati dalle cifre arabe, in ordine di temperatura decrescente. Si distinguono poi le classi di luminosit\u00e0, indicate dai numeri romani da I a V. La classe I (suddivisa in Ia, Ib e Iab) indica le supergiganti, la II le giganti brillanti, la III le giganti, la IV subgiganti e la V le nane o stelle di MS. Il Sole e\\` una G2-V. \n",
      "\n",
      "\n",
      "* **Classe O:** colore blu, temperatura fra 50000 e 25000 K, righe di assorbimento intense di HeII, ma si osservano anche righe di emissione nei tipi piu\\` caldi. Da 4 a 9 dominano gli assorbimenti di HeII, HeI, H, SiIV, i cui rapporti relativi fissano il tipo spettrale, deboli OIII e CIII. In O5 l'assorbimento di HeII \u00e8 massimo, l'HeI sale da 4 a 9, a 7 e\\` massimo NIII e compare CIII $\\lambda 4647$. \n",
      "* **Classe B:** colore blu-bianco, temperatura fra 25000 e 12000 K. Scompare HeII, aumenta HeI, inizia a crescere l'intensita\\` della serie di Balmer. Per determinare il tipo si usano i rapporti tra SiIII e SiIV, o tra SiII e HeI. \n",
      "* **Classe A:** colore bianco, temperatura 9000 K. Le righe di HeI scompaiono mentre le righe di H sono intense e larghe. Si vede la riga K di CaII, mentre la riga H del calcio \u00e8 nascosta dalla H$\\epsilon$ di Balmer. L'intensit\u00e0 delle righe metalliche indica T; ad esempio MnII compare nelle A2. Si osservano anche le righe di FeII, che crescono di intensita\\` con L. \n",
      "* **Classe F:** colore bianco-giallo, temperatura 7000 K. L'intensita\\` di H cala, aumentano le H,K del calcio e altre righe metalliche. Si vede la _banda G_ a $\\lambda 4310$ originata da una banda molecolare di CH e da altri metalli. Il continuo violetto e\\` piu\\` blu nelle nane che nelle giganti, e l'effetto aumenta con il tipo spettrale.\n",
      "* **Classe G:** colore giallo, temperatura 5500 K. Righe metalliche pi\u00f9 intense di quelle di Balmer. Il rapporto FeII/H$\\gamma$ indica la temperatura. Le bande violette di CN indicano la luminosita\\`, in quanto piu\\` forti nelle giganti che nelle nane. \n",
      "* **Classe K:** colore giallo-arancio, temperatura 4500 K. Il continuo blu si indebolisce sempre piu\\`, le righe H,K di CaII hanno il loro massimo in K0, poi inizia a crescere CaI. \n",
      "* **Classe M:** colore rosso, temperatura 3000 K. Spettro dominato da bande molecolari, caratteristiche TiO che degrada verso il rosso. La riga di CaI $\\lambda 4226$ cresce al diminuire di T. \n"
     ]
    },
    {
     "cell_type": "markdown",
     "metadata": {},
     "source": [
      "## Assorbimenti ed emissione nel continuo\n",
      "\n",
      "### Assorbimento \n",
      "\n",
      "Esistono due tipi pincipali di assorbimenti: quelli **bound-free** e quelli **free-free**. Nel primo caso un elettrone assorbe un fotone e passa da uno stato legato a uno libero; la sua energia cinetica e\\` pari alla differenza fra l'energia di ionizzazione e quella del fotone incidente. Nel secondo caso invece un elettrone libero assorbe un fotone e aumenta la sua energia cinetica. E\\` evidente come esistano infinite transizioni f-f che assorbono alla stessa frequenza, mentre per ogni livello $n$ di un atomo c'e\\` una sola transizione b-f. Nel caso dell'idrogeno, per trovare l'assorbimento totale a una frequenza $\\nu$ \u00e8 necessario moltiplicare la sezione d'urto $a_n$ per il numero di atomi nello stato considerato $N_n$, e quindi sommare su tutti gli stati che contribuiscono alla stessa frequenza. Infine si aggiunge il contributo di f-f. \n",
      "\n",
      "L'andamento degli assorbimenti dell'idrogeno si ricava con un semplice ragionamento. Affinch\\'e l'elettrone assorba un fotone, deve essere $h\\nu \\ge h\\nu_{min}$, dove $\\nu_{min}$ e\\` la frequenza di ionizzazione dell'elettrone. A frequenze maggiori il coefficiente di assorbimento $k$ crescera\\` improvvisamente, dato che il numero di atomi assorbenti aumenta. Nell'andamento di $k$ quindi si osservano delle discontinuita\\` in corrispondenza della frequenza di transizione $n\\to\\infty$. Ad esempio a 8265 A si ha la discontinuita\\` di Paschen, a 3647 A quella di Balmer, a 912 A quella di Lyman. Nel Sole l'assorbimento principale nel visibile e\\` quello da $H^-$. Infatti, sebbene il numero di $H^-$ sia minuscolo rispetto a quello di $H$, nel visibile l'assorbimento e\\` dovuto solo agli atomi di idrogeno al livello 3, mentre tutti gli ioni $H^-$ contribuiscono a $k$: in pratica ci si aspetta un assorbimento di $H^-$ 100 volte superiore a quello di $H(n=3)$. \n",
      "\n",
      "### Emissione \n",
      "\n",
      "Per quanto riguarda l'emissione, e\\` evidente come, definiti $\\epsilon_\\nu$ e $k_\\nu$ i coefficienti di emissione e assorbimento, si abbia $dI_\\nu = \\epsilon_\\nu ds$, e $dI_\\nu/ds = -k_\\nu I_\\nu$, quindi complessivamente:\n",
      "\\begin{equation}\n",
      "\\frac{dI_\\nu}{ds} = -k_\\nu I_\\nu + \\epsilon_\\nu\n",
      "\\end{equation}\n",
      "che e\\` l'\\textbf{equazione del trasporto radiativo}. Dividendo l'equazione per $k_\\nu$ si trova: \n",
      "\\begin{equation}\n",
      "\\frac{dI_\\nu}{d\\tau_\\nu} = -I_\\nu + S_\\nu \n",
      "\\end{equation}\n",
      "dove $\\tau_\\nu = k_\\nu ds$ e\\` la profondita\\` ottica, e $S_\\nu = \\epsilon_\\nu/k_\\nu$ e\\` la source function del gas. Il segno di $dI_\\nu/d\\tau_\\nu$ dipende dalla grandezza relativa di $I_\\nu$ e $S_\\nu$. In un corpo nero, quindi all'equilibrio termodinamico, $dI_\\nu/ds = 0$, da cui si ricava $I_\\nu = S_\\nu$, ma essendo in un corpo nero $I_\\nu = B_\\nu(T)$, cioe\\` la planckiana, si ricava subito: \n",
      "\\begin{equation}\n",
      "\\epsilon_\\nu = k_\\nu B_\\nu(T)\n",
      "\\end{equation}\n",
      "nota come _equazione di Kirchhoff_. Tale equazione mostra come l'emissione sia distribuita su tutto lo spettro anche se l'assorbimento avviene su di una singola riga. Dagli esperimenti si osserva che le righe in emissione sono prodotte da un gas caldo, mentre quelle in assorbimento da un gas freddo frapposto fra l'osservatore e la sorgente calda. Le stelle ricadono nel secondo caso. \n",
      "\n",
      "L'emissione vera e propria si ricava sempre partendo dall'equazione del trasporto: detto $I(\\tau_\\nu = 0) = I_0$, moltiplicando per $e^{\\tau}$, integrando fra 0 e $\\tau_nu^*$ e infine moltiplicando per $e^{-\\tau_\\nu^*}$ si ottiene:\n",
      "\\begin{equation}\n",
      "I_\\nu = I_{\\nu 0} e^{-\\tau_\\nu^*} + S_\\nu (1 - e^{-\\tau_\\nu^*})\n",
      "\\end{equation}\n",
      "Il primo termine mostra l'attenuazione della radiazione dovuta alla profondita\\` ottica, mentre il secondo e\\` il contributo della radiazione emessa lungo il cammino. Nel caso di gas otticamente sottile, $\\tau_\\nu << 1$, $e^{-\\tau} \\sim 1 - \\tau$, quindi se $I_0 = 0$:\n",
      "\\begin{equation}\n",
      "I_\\nu = B_\\nu(T) \\tau_\\nu^* = \\epsilon_\\nu s\n",
      "\\end{equation}\n",
      "con $s$ cammino ottico. Per questo motivo si osservano righe alle frequenze in cui il coefficiente di assorbimento e\\` molto grande. Se invece $\\tau_\\nu >> 1$, cioe\\` gas otticamente spesso, si trova $I_\\nu = S_\\nu = B_\\nu(T)$, cio\u00e8 l'intensita\\` dell'emissione non dipende dalla frequenza e ha lo stesso andamento del corpo nero. \n"
     ]
    },
    {
     "cell_type": "code",
     "collapsed": false,
     "input": [],
     "language": "python",
     "metadata": {},
     "outputs": []
    }
   ],
   "metadata": {}
  }
 ]
}