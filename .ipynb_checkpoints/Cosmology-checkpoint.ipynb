{
 "metadata": {
  "name": ""
 },
 "nbformat": 3,
 "nbformat_minor": 0,
 "worksheets": [
  {
   "cells": [
    {
     "cell_type": "markdown",
     "metadata": {},
     "source": [
      "# Cosmologia"
     ]
    },
    {
     "cell_type": "markdown",
     "metadata": {},
     "source": [
      "## Contenuto dell'universo\n",
      "### Plasma \n",
      "La massa valutata di questa componente e\\` fra 5 e 10 volte quella condensata in stelle e galassie, e si trova a temperature di $10^5$ $K$. Tali plasmi non sono facilmente osservabili, in quanto emettono solo radiazione di free-free distribuita su vaste regioni e quindi a bassa brillanza superficiale. Il picco di emissione e\\` nella banda X, ma finora sono stati osservati soltanto quelli collassati all'interno di ammassi di galassie. \n",
      "### Raggi cosmici\n",
      "Sono particelle di alta energia, costituiti principalmente da protoni e, in minor parte, da nuclei di elio e quantita\\` minuscole di altri nuclei pesanti e da antimateria. Sono considerati raggi cosmici anche i fotoni $\\gamma$ duri, che entrando nell'atmosfera generano cascate di particelle a energie inferiori. Il loro spettro di energia e\\` descritto da una legge di potenza $F(E) \\propto E^{-\\alpha}$, con $\\alpha$ compreso fra 2.7 e 3 a seconda dell'energia. I raggi cosmici a piu\\` alte energie ($10^{20}$ $eV$) sono probabilmente generati entro la Galassia, oppure perderebbero energia per Compton inverso. \n",
      "### Fotoni \n",
      "I fotoni costituiscono il principale mezzo di indagine astrofisica. Si originano, oltre che dalle stelle e da altre sorgenti analoghe, anche dal fondo cosmico di microonde (CMB), che e\\` lo spettro di un perfetto corpo nero. \n",
      "### Neutrini \n",
      "I neutrini hanno origine sia nelle reazioni nucleari delle stelle, sia in quelle delle supernovae, che ne producono massicce quantita\\`. I rilevatori sfruttano l'effetto Cherenkov, ovvero flash di luce prodotti dall'impatto di un neutrino con un elettrone, che permette di rilevare sia la direzione che l'energia del neutrino. La teoria prevede che una piccola parte di essi, circa 1000 $cm^{-3}$, sia stata prodotta nel Big Bang. \n",
      "### Materia oscura\n",
      "E\\` una delle componenti dominanti dell'universo, l'80% della materia gravitante, costituita da materia non barionica e interagente solo mediante gravita\\`. Candidati al ruolo di materia oscura sono particelle pesanti come neutralino e assione. Sono in corso numerosi esperimenti volti a individuarla. \n",
      "### Energia oscura\n",
      "E\\` l'energia responsabile dell'espansione accelerata dell'universo, e quindi della costante cosmologica $\\Lambda$. Le analisi indicano che la densita\\` di massa-energia oscura sia 2-3 volte la densita\\` di energia della materia (oscura e barionica), e che quindi sia la componente dominante dell'universo. \n",
      "### Radiazione gravitazionale\n",
      "Costituita dalle onde gravitazionali previste dalla relativita\\` generale, si genera in presenza di variazioni violente del campo gravitazionale, quali il collasso di una stella massiccia, o nella fusione di buchi neri. Ne puo\\` esistere una componente generata anche dal Big Bang, che potrebbe aver lasciato tracce nello stato di polarizzazione dei fotoni del CMB. \n"
     ]
    },
    {
     "cell_type": "markdown",
     "metadata": {},
     "source": [
      "## Cosmic Microwave Background\n",
      "Il CMB e\\` il residuo della radiazione di corpo nero del Big Bang caldo, cioe\\` e\\` un bagno termico di fotoni di lunghezza d'onda tipica attorno al millimetro, con densita\\` 415 $cm^{-3}$. Le anisotropie del CMB permettono di studiare l'universo nelle sue primissime fasi evolutive; variazioni di temperatura nella radiazione di fondo infatti coincidono con variazioni di densita\\` al momento della ricombinazione, che in seguito originano le galassie. Si e\\` osservato che tali fluttuazioni sono minuscole, dell'ordine di $\\delta T / T \\sim 10^{-5}$, dunque lo spettro del CMB e\\` di fatto il piu\\` perfetto corpo nero mai osservato in natura. Tali anisotropie si distinguono in primarie e secondarie, a seconda se esse si originino sulla superficie di ultimo scattering (LSS) o nei 14 $Gpc$ di spazio fra essa e noi. A loro volta, le anisotropie primarie possono agire su scale maggiori o minori dell'orizzonte $R_H$. \n",
      "### Anisotropie primarie con $R > R_H$\n",
      "Sopra la scala dell'orizzonte le sorgenti di fluttuazioni sono:\n",
      "\n",
      "1. Velocita\\`: e\\` il termine Doppler del moto della Terra rispetto al sistema di riferimento assoluto del CMB. \n",
      "2. Gravita\\`: i fotoni emessi in una buca di potenziale perdono energia per uscirvi, mentre quelli emessi su una cresta ne guadagnano. Nel primo caso si avra\\` un redshift, nel secondo un blueshift, entrambi gravitazionali. \n",
      "3. Densita\\`: le regioni sovradense saranno piu\\` calde rispetto alla media, dunque i fotoni da loro emessi saranno piu\\` blu. In quelle sottodense avverra\\` il contrario. Tale fenomeno tende ad annullare quello precedente della gravita\\`, poich\\'e regioni sovradense corrisponderanno anche a buche di potenziale, anche se non e\\` sufficiente a farlo del tutto. L'insieme dei due fenomeni e\\` noto come **effetto Sachs-Wolfe**. \n",
      "\n",
      "### Anisotropie primarie con $R < R_H$\n",
      "Su scale minori dell'orizzonte, le fluttuazioni di $\\phi$, $\\vec{v}$ e $\\delta$ possono oscillare, e questo da\\` luogo a picchi acustici ad alte frequenze angolari. Il fluido di barioni e radiazione sente l'attrazione delle perturbazioni di materia oscura, dunque il fluido BR tende a cadere per $\\phi$ nelle buche, ma cadendo diventa sovradenso, e la pressione di radiazione tende a farlo fuoriuscire. Questo processo e\\` descritto da un oscillatore armonico, che origina fluttuazioni in densita\\` e quindi in temperatura. La velocita\\` delle oscillazioni e\\` quella del suono, circa costante a tutte le scale, dunque fluttuazioni su scale minori tenderanno a compiere un numero grande di oscillazioni nelle buche.\\\\\n",
      "Si ricordi che a scale grandi le anisotropie sono quelle di Sachs-Wolfe, dunque nessuna fluttuazione ha avuto tempo per oscillare, mentre a scale minori si giunge ad una prima scala che ha avuto tempo di compiere mezza oscillazione, e che sara\\` alla massima compressione per $z = z_{rec}$. Questa scala e\\` di poco minore alla scala dell'orizzonte alla ricombinazione, e corrisponde al primo picco nel contributo di $\\delta$ allo spettro di potenza del CMB. A scala circa la meta\\` di questa, le fluttuazioni avranno compiuto un'oscillazione completa, dunque saranno nella fase di massima rarefazione, dando un secondo picco acustico dovuto al campo $\\delta$. I picchi successivi saranno repliche di queste situazioni. \\\\\n",
      "Oltre alle oscillazioni di densita\\` ve ne saranno anche di velocita\\`, il cui effetto Doppler si somma in quadratura con le precedenti. Nel modello dell'oscillatore, il campo $\\vec{v}$ e\\` sfasato di $\\pi/2$ rispetto a $\\delta$, cioe\\` gli istanti di minima e massima densita\\` corrispondono a velocita\\` nulle, e la velocita\\` massima si ha per $\\delta = 0$. Se pero\\` nel modello ignorassimo il contributo di gravita\\` dei barioni, la somma degli effetti sarebbe $\\cos^2\\theta +\\cos^2{(\\theta + \\pi/2)} = cost$, dunque non ci sarebbero picchi, visto che la somma di energie cinetica e potenziale sarebbe una costante. Tuttavia i barioni contribuiscono a spostare il bilancio a favore dell'energia potenziale, dunque nel modello l'oscillatore armonico subira\\` una maggior compressione, detta _effetto di baryon drag_. \\\\\n",
      "\n",
      "### Anisotropie secondarie\n",
      "Dopo la ricombinazione i fotoni interagiscono solo con la gravita\\`, dunque la somma degli effetti che subiscono si puo\\` descrivere come una variazione temporale del potenziale gravitazionale detta **effetto Sachs-Wolfe integrato**. Quando un fotone entra in una buca di potenziale guadagna energia, quando ne esce cede la stessa quantita\\`, ma se mentre la attraversa il potenziale varia (come nel caso di un universo in evoluzione) l'effetto complessivo sara\\` un redshift o un blueshift. Vi sono tre casi in cui questo accade. \n",
      "\n",
      "1. Early ISW: subito dopo la ricombinazione la radiazione contribuisce ancora molto al potenziale delle fluttuazioni di materia oscura, e la diffusione dei fotoni provoca un decadimento netto di $\\phi$, che porta a un $\\delta T/T < 0$. \n",
      "2. Late ISW: in presenza di costante cosmologica a basso redshift l'universo e\\` dominato dall'energia del vuoto, quindi il potenziale varia. \n",
      "3. Effetto Rees-Sciama: se un fotone entra in una buca che sta crescendo non linearmente, come nel caso di un protoammasso di galassie, ne uscira\\` con meno energia, o se entra in un proto-void ne uscira\\` piu\\` blu. \n",
      "\n",
      "### Effetto Sunyaev-Zeldovich\n",
      "Dopo la ricombinazione deve esserci stata una nuova ionizzazione, in quanto per $z < 6$ l'universo appare del tutto ionizzato. In questo universo i fotoni sono nuovamente influenzati dalle velocita\\` e dalle sovradensita\\` barioniche, dando origine ad altre anisotropie. Vi sono due fenomeni di questo tipo, entrambi noti come **effetto Sunyaev-Zeldovich**. Il primo, lo SZ cinematico, e\\` dovuto alle velocita\\` peculiari di un ammasso: se esso si sposta, lo scattering Thomson dei fotoni fossili da parte degli elettroni liberi del plasma porta a un nuovo effetto Doppler che shifta i fotoni. Il secondo effetto e\\` lo SZ termico: gli elettroni liberi del plasma distorcono lo spettro del CMB cedendo energia ai fotoni. Questo spostamento del CMB verso energie maggiori appare come un abbassamento di temperatura se osservato a basse frequenze, e viceversa. \n"
     ]
    },
    {
     "cell_type": "markdown",
     "metadata": {},
     "source": [
      "## Principio cosmologico\n",
      "Il principio cosmologico afferma che, su grandi scale, l'universo e\\` omogeneo e isotropo. In esso e\\` possibile fissare un tempo assoluto in base alla misura della temperatura del CMB. Il tempo attuale $t_0$ e\\` fissato per una temperatura di 2.728 $K$. Anche l'espansione dell'universo e\\` isotropa e regolata dalla legge di Hubble. In un sistema di riferimento comovente, in cui la posizione degli osservatori non cambia con il tempo cosmico, si puo\\` definire la costante di Hubble come: \n",
      "\\begin{equation}\n",
      "H(t) = \\frac{\\dot{a}}{a}\n",
      "\\end{equation}\n",
      "dove $a = a(t)$ e\\` il cosiddetto \\textit{fattore di scala universale}, e stabilisce come si espande o si contrae l'universo ad ogni istante del tempo cosmico. Il volume dell'universo sara\\` proporzionale a $a$, e analogamente $\\rho \\propto a^{-3}$. Lo spazio quadridimensionale omogeneo e isotropo si puo\\` descrivere mediante la \\textbf{metrica di Robertson-Walker}, definita in coordinate polari: \n",
      "\\begin{equation}\n",
      "ds^2 = c^2dt^2 - a^2(t)\\left[\\frac{dr^2}{1-kr^2}+r^2\\left(d\\theta^2 +\\sin^2\\theta d\\phi^2\\right)\\right]\n",
      "\\end{equation}\n",
      "dove $k$ e\\` la costante di curvatura, scalata in modo da valere $-1$, $0$ o $1$ per universi a curvatura negativa, nulla o positiva, rispettivamente sferici, piatti o iperbolici. \n",
      "Un universo regolato dal principio cosmologico puo\\` essere descritto, oltre che dalla metrica RW, dalle equazioni di Friedmann, soluzioni delle componenti tempo-tempo e spazio-spazio delle equazioni di Einstein. Includendo anche la costante cosmologica $\\Lambda$, tali equazioni sono:\n",
      "\\begin{equation}\n",
      "\\left(\\frac{\\dot{a}}{a}\\right)^2 = \\frac{8\\pi G}{3}\\rho -\\frac{kc^2}{a^2} + \\frac{\\Lambda}{3}\n",
      "\\end{equation}\n",
      "\\begin{equation}\n",
      "\\frac{\\ddot{a}}{a} = -\\frac{4\\pi G}{3}\\left(\\rho + \\frac{3p}{c^2}\\right)+\\frac{\\Lambda}{3}\n",
      "\\end{equation}"
     ]
    },
    {
     "cell_type": "markdown",
     "metadata": {},
     "source": [
      "## Universi di Friedmann\n",
      "### $k=0$ \n",
      "La metrica RW si riduce in questo caso alla metrica euclidea. Il volume racchiuso da questo universo e\\` infinito a ogni tempo cosmico. Questo universo e\\` noto come \\textbf{universo di Einstein-de Sitter}, e le equazioni di Friedmann forniscono per questo modello la seguente proporzionalita\\`:\n",
      "\\begin{equation}\n",
      "a \\propto t^{2/3}\n",
      "\\end{equation}\n",
      "Per $t = 0$ si ha $a = 0$, ma la derivata del fattore di scala al tempo $0$ e\\` infinita. Questo istante in cui l'universo ha dimensioni nulle e\\` detto \\textbf{Big Bang}, e si verifica per tutti i modelli di universo. \n",
      "### $k=-1$ \n",
      "Per questa curvatura si hanno due modelli. Il primo, il piu\\` semplice, e\\` l'**universo di Milne**, in cui $\\rho = 0$ (cioe\\` un universo di soli fotoni): in questo caso le equazioni di Friedmann hanno come soluzioni: \n",
      "\\begin{equation}\n",
      "a(t) = \\pm ct\n",
      "\\end{equation}\n",
      "Ovvero l'universo si espande (o si contrae dal solo punto di vista matematico) in modo uniforme e monotono. Anche qui per $t = 0$ e\\` presente la singolarita\\` del Big Bang. Nel caso invece di materia gravitante $\\rho > 0$, il fattore di scala mantiene una derivata $\\dot{a} > 0$ costantemente, dunque l'espansione e\\` infinita e monotona. Al crescere di $t$ nell'equazione tende a dominare il termine $kc^2$, e quindi asintoticamente si ha $\\dot{a} = \\pm c$. Tale universo coincide quindi con quello di Milne, facilmente intuibile in quanto la densita\\` di materia al crescere di $a$ tende a zero. \n",
      "### $k=1$ \n",
      "In questo caso la derivata del fattore di scala presenta un valore nullo per un determinato valore di $a$; questo valore critico, poich\\'e $\\ddot{a} < 0$ sempre, fa si\\` che l'universo inizi a contrarsi dopo aver raggiunto una dimensione massima. In pratica esso, dopo una fase di espansione, si richiude su se stesso fino a ricompattarsi nel cosiddetto _Big Crunch_. L'universo quindi e\\` chiuso. \n"
     ]
    },
    {
     "cell_type": "markdown",
     "metadata": {},
     "source": [
      "## Costante cosmologica\n",
      "Le stime dell'eta\\` dell'universo basate su valori di $\\Omega$ senza tenere conto della costante cosmologica sono in contrasto con l'eta\\` stimata degli ammassi globulari piu\\` antichi. Inoltre, sfruttando come candele standard le supernovae Ia, si e\\` osservato che esse si collocano a valori di magnitudine incompatibili non solo con universo Einstein-de Sitter ($\\Omega_m = 1$), ma anche con quello di Milne ($\\Omega_m = 0$), ovvero i dati richiedono un universo con densita\\` di materia negativa: questo porta a modificare i modelli di universo inserendo il termine di costante cosmologica nelle equazioni di Friedmann. Il termine in $\\Lambda$ e\\` interpretabile come la densita\\` di energia del vuoto, cioe\\` di una forma di energia repulsiva che si oppone alla gravita\\`, che fornisce una pressione negativa. Il contributo di questa componente va sommato a quello della materia. Si possono esaminare diversi casi sul valore della costante cosmologica.\n",
      "#### $\\Lambda < 0$, $\\Omega_\\Lambda < 0$\n",
      "Implica una ulteriore forza attrattiva che si somma alla gravita\\`, il cui contributo cresce con il tempo cosmico, e porta a un inevitabile collasso dell'universo. \n",
      "#### $\\Lambda > 0$, $\\Omega_\\Lambda > 0$\n",
      "Implica un tempo $t_{min}$ in cui si ha un minimo nel ritmo di espansione, cioe\\` un minimo in $H(t)$.  Questo porta a diverse possibili soluzioni dipendenti dal valore di $\\dot{a}_{min}$. Se e\\` positivo dopo l'istante $t_{min}$ l'espansione dell'universo diventera\\` accelerata, e la crescita esponenziale. Casi complessi si presentano se e\\` negativo, nessuno con reale interesse fisico, in quanto in contrasto con le osservazioni sul nostro universo. Esse infatti portano a valori pari a $\\Omega_m = 0.27$, e $\\Omega_\\Lambda = 0.73$, con un minimo nel tasso di espansione per $z = 0.6$. Inoltre tali valori forniscono per l'eta\\` dell'universo il valore piu\\` attendibile conosciuto, ovvero 13.67 Gyr. Riassumendo, l'universo sembra costituito per il 73% di energia oscura, il 23% da materia oscura, il 4% materia barionica di cui lo 0,4% e\\` plasma condensato in stelle. \n"
     ]
    },
    {
     "cell_type": "markdown",
     "metadata": {},
     "source": [
      "## Osservabili cosmologici\n",
      "### Redshift cosmologico\n",
      "A partire dalla metrica RW si puo\\` ricavare con semplici passaggi l'esistenza di un redshift dovuto all'espansione dell'universo:\n",
      "\\begin{equation}\n",
      "\\frac{\\nu_e}{\\nu_0} = \\frac{dt_0}{dt_e}=\\frac{a(t_0)}{a(t_e)}= 1 + z\n",
      "\\end{equation}\n",
      "L'espansione in pratica fa si\\` che ci sia uno spostamento della radiazione verso le basse frequenze legato all'aumento del fattore di scala, cioe\\` genera uno spostamento sistematico verso il rosso di tutta la radiazione elettromagnetica. Questo vale a patto di considerare sorgenti abbastanza lontane: in caso contrario infatti il redshift (o blueshift) e\\` dovuto principalmente ai moti locali delle galassie, e la metrica e\\` approssimabile a quella piatta di Minkowski. Per sorgenti troppo lontane invece accade il contrario: a $z > 1000$ non e\\` possibile osservare, in quanto il libero cammino medio dei fotoni era ancora troppo piccolo ed essi non erano liberi di diffondersi. Si noti infine che in teoria fotoni prodotti al momento del Big Bang ($t = 0$) avrebbero teoricamente redshift infinito.\n",
      "### Distanza di luminosita\\`\n",
      "Il flusso totale di energia di una sorgente posta a distanza $r_0$ ricevuto e\\` pari a:\n",
      "\\begin{equation}\n",
      "S = \\frac{L}{4\\pi a_0^2 r_0^2} \\frac{1}{(1 + z)^2}\n",
      "\\end{equation}\n",
      "In pratica esso coincide con il flusso normale della sorgente, fatta eccezione per i due termini $(1+z)$: il primo e\\` dovuto alla perdita di energia dei fotoni dovuta all'espansione dell'universo, mentre il secondo invece tiene conto del fatto che anche il ritmo di arrivo dei fotoni e\\` inferiore al loro tasso di emissione di uno stesso fattore. \\\\\n",
      "Si puo\\` ricavare quindi una nuova distanza, detta di luminosita\\`, definita come la distanza sotto la quale una sorgente con luminosita\\` $L$ e\\` vista con flusso $S$. \n",
      "\\begin{equation}\n",
      "d_L = a_0r_0 (1 + z)\n",
      "\\end{equation}\n",
      "### Distanza di diametro angolare\n",
      "E\\` necessaria per determinare le dimensioni intrinseche di un oggetto conoscendone le dimensioni angolari. Se tale oggetto ha dimensione fisica $l$ e angolare $d\\theta$ ed e\\` posto a distanza comovente $r_0$, si definisce:\n",
      "\\begin{equation}\n",
      "d\\theta = \\frac{l}{d_{diam}}\n",
      "\\end{equation}\n",
      "cioe\\` la distanza di diametro angolare e\\` definita come il rapporto fra le dimensioni angolari e spaziali della sorgente. Si dimostra che:\n",
      "\\begin{equation}\n",
      "d_{diam} = \\frac{a_0r_0}{(1 + z)}\n",
      "\\end{equation}\n",
      "Per piccoli valori di $z$ l'andamento della distanza e\\` del tutto simile a quello della geometria euclidea, ma quando il redshift si avvicina a 1 la dimensione angolare dell'oggetto in cielo smette di diminuire, e per valori di $z$ ancora piu\\` alti tende ad aumentare. Questo fenomeno e\\` dovuto al fatto che, a distanze spaziotemporali cosi\\` elevate, intervengono effetti di curvatura che modificano le traiettorie dei fotoni rispetto a quelle euclidee. Poich\\'e la curvatura dipende dalla quantita\\` di materia gravitante, tale effetto si puo\\` interpretare come una sorta di lente gravitazionale effettuata dall'universo intero il cui effetto e\\` quello di aumentare le dimensioni apparenti delle sorgenti. \n",
      "La distanza di diametro angolare si puo\\` collegare a quella di luminosita\\`:\n",
      "\\begin{equation}\n",
      "d_L = d_{diam} (1 + z)^2\n",
      "\\end{equation}\n",
      "In questo modo e\\` possibile ricavare anche la dipendenza della brillanza superficiale di un oggetto dal redshift:\n",
      "\\begin{equation}\n",
      "\\mu \\propto (1 + z)^{-4}\n",
      "\\end{equation}\n",
      "Si noti quindi che la brillanza non diminuisce finch\\'e l'universo resta regolato dalla geometria euclidea, ma in seguito l'andamento si modifica come descritto dall'equazione. Tale effetto e\\` facilmente intuibile, in quanto il flusso scende con $(1 + z)^2$, e se il diametro apparente delle sorgenti aumenta con lo stesso andamento, si ottiene banalmente quanto detto. Per questo motivo sorgenti diffuse come le galassie ad alti redshift richiedono tempi di integrazioni enormi anche con i telescopi piu\\` potenti. \n"
     ]
    },
    {
     "cell_type": "markdown",
     "metadata": {},
     "source": [
      "## Storia termica dell'universo\n",
      "### Disaccoppiamento \n",
      "Nel plasma primordiale le interazioni fra le particelle sono abbastanza rapide da stabilire un equilibrio statistico, ma se il plasma e\\` in espansione dopo una fluttuazione le particelle possono essere troppo distanti per ristabilire l'equilibrio. In pratica quando la rate delle possibili interazioni di una particella e\\` maggiore del tasso di espansione dell'universo $H$, si puo\\` ripristinare l'equilibrio, in caso contrario si ha il \\textbf{disaccoppiamento}. Dopo tale istante la temperatura delle particelle non piu\\` accoppiate al plasma sara\\` piu\\` bassa di quella del plasma stesso. Questo accade perche\\' durante il raffreddamento dell'universo la temperatura si porta al di sotto della massa della maggior parte delle specie particellari esistenti, che decadono restituendo la loro energia all'ambiente e riscaldandolo. Questo \\textit{boost} di energia tuttavia non puo\\` influenzare le specie gia\\` disaccoppiate, che continuano a raffreddarsi indisturbate. Si dimostra infatti che la temperatura dei neutrini fossili, disaccoppiati subito sotto il MeV (1 secondo dopo il BB), e\\` di 1.96 K contro i 2.73 K della radiazione di fondo. \n",
      "Il disaccoppiamento fra la radiazione e la materia e\\` avvenuto invece piu\\` tardi, circa 300mila anni dopo il Big Bang ($z = 1000$), quando la densita\\` dell'universo era abbastanza bassa da consentire ai fotoni di propagarsi liberamente. Questo istante e\\` osservabile sulla superficie di ultimo scattering, ed e\\` il momento in cui si origina il CMB. Poco prima del disaccoppiamento si ha la \\textbf{ricombinazione}, in cui gli elettroni possono legarsi ai nuclei gia\\` formati, eliminando quindi i fenomeni di scattering che limitavano il libero cammino medio dei fotoni. \n",
      "### Equivalenza \n",
      "Altro istante fondamentale e\\` l'equivalenza materia-radiazione; la densita\\` della materia scala con $(1 + z)^3$, mentre quella della radiazione con $(1 + z)^4$. La radiazione e\\` inizialmente la componente dominante dell'universo, ma a causa dei diversi andamenti di densita\\` si ha un istante in cui i due valori sono uguali. Tale istante e\\` l'equivalenza, e segna il passaggio da un universo dominato dalla radiazione a uno dominato dalla materia. \n",
      "### Nucleosintesi primordiale\n",
      "Questo e\\` il principale successo della teoria del Big Bang caldo: nessun'altra teoria e\\` infatti in grado di spiegare il motivo delle percentuali relative di idrogeno, elio e metalli esistente nell'universo. Essa avviene circa 3 minuti dopo il BB, ed e\\` legata al disaccoppiamento dei neutrini. In questo momento infatti sono gia\\` disaccoppiati, quindi il decadimento $\\beta$ dei neutroni non e\\` bilanciato dal $\\beta$ inverso. Al termine del processo tutti i neutroni sono rinchiusi nei nuclei di elio, e i protoni liberi formano l'idrogeno. Conoscendo il rapporto neutroni-protoni (1-6) all'inizio della nucleosintesi, si ricava facilmente il valore del rapporto fra idrogeno ed elio alla fine della fusione nucleare: tale predizione teorica coincide in maniera praticamente perfetta con le osservazioni sperimentali. \n"
     ]
    },
    {
     "cell_type": "markdown",
     "metadata": {},
     "source": [
      "## Problemi del Big Bang\n",
      "### Problema della costante cosmologica\n",
      "E\\` il piu\\` serio problema della cosmologia, ancora non risolto. Si puo\\` infatti vedere che la densita\\` dello stato fondamentale quantistico detto vuoto doveva differire dal valore attuale di una parte su $10^{108}$. Questo e\\` un problema chiaro di fine tuning. \n",
      "### Problema dell'orizzonte\n",
      "Tutti i modelli di Friedmann regolati da un'equazione di stato $P = \\omega \\rho$, con $\\omega \\geq 0$ prevedono l'esistenza di un orizzonte delle particelle, oltre il quale due regioni dell'universo non sono causalmente connesse. Il principio cosmologico tuttavia richiede una connessione fra regioni che sono all'esterno del loro orizzonte, e che dunque non possono aver mai comunicato fra loro con dei processi fisici. L'isotropia quasi totale del CMB e\\` un esempio di questo problema. \n",
      "### Problema della piattezza\n",
      "Da un punto di vista teorico, sia in un universo chiuso che in uno aperto ci si aspetta che la componente gravitazionale o quella di curvatura domini sull'altra in un tempo scala dell'ordine del tempo di Planck, facendo collassare l'universo oppure dando un'espansione esponenziale. Per raggiungere la temperatura attuale insomma all'universo possono bastare $10^{-7}$ $s$, eppure l'universo ha circa $10^{10}$ anni. Insomma, il termine cinetico dell'equazione di Friedmann dev'essere stato molto vicino a quello gravitazionale, e al tempo di Planck la densita\\` doveva essere vicinissima a quella critica. Dal punto di vista quantitativo, la differenza non puo\\` essere maggiore di una parte su $10^{60}$. \n",
      "### Teoria inflazionaria\n",
      "La soluzione ai problemi di orizzonte e piattezza sta nell'inflazione, ossia in un periodo immediatamente successivo al Big Bang in cui l'universo ha subito un'espansione accelerata rapidissima. In questo modo, regioni causalmente connesse prima dell'inflazione non lo erano piu\\` dopo, spiegando il principio cosmologico. Anche il problema della piattezza viene risolto, in quanto l'inflazione ha quasi annullato le differenze fra il termine gravitazionale e quello cinetico nell'equazione di Friedmann. L'inflazione avviene a causa di una rottura di simmetria; il passaggio del sistema quantistico dal falso vuoto al vero vuoto fa si\\` che l'universo sia sottoposto ad un'espansione rapida che livella le disomogeneita\\` e le anisotropie. La costante cosmologica viene interpretata come l'energia di punto zero del potenziale. \\\\\n",
      "La teoria oggi piu\\` accreditata e\\` tuttavia quella del'inflazione caotica, che non richiede transizioni di fase. Alla base del modello si ha che una regione dell'universo adatta subisca automaticamente l'inflazione; poich\\'e le costanti variano da punto a punto nello spaziotempo, qualsiasi regione soddisfi le condizioni necessarie subira\\` l'inflazione, dando origine ad un universo. \n"
     ]
    },
    {
     "cell_type": "markdown",
     "metadata": {},
     "source": [
      "\n",
      "## Funzione di correlazione e spettro di potenza\n",
      "### Funzione di correlazione\n",
      "Data una distribuzione di galassie, la probabilita\\` di trovare una galassia compresa entro un angolo solido $d\\Omega$, riferito a un angolo $\\theta$, di distanza da un'altra, dipendera\\` dalla densita\\` areale degli oggetti. Per una distribuzione stocastica ovviamente $N(\\theta)d\\Omega = n_gd\\Omega$, dove $n_g$ e\\` la densita\\` media delle galassie. Tuttavia questa relazione e\\` valida solo in assenza di clustering, fenomeno che nell'universo si presenta invece sempre. La relazione quindi dev'essere pesata in maniera diversa:\n",
      "\\begin{equation}\n",
      "N(\\theta)d\\Omega = n_g[1 + w(\\theta)]d\\Omega\n",
      "\\end{equation}\n",
      "dove $w(\\theta)$ e\\` la **funzione di correlazione angolare** a due punti. $w$ in pratica stabilisce l'eccesso o il difetto di probabilita\\` di trovare una seconda galassia, ossia indica quanto esse tendano ad addensarsi (per $w > 0$, altrimenti, nel caso dei vuoti, sara\\` $w < 0$). \\\\\n",
      "Analogamente alla funzione di correlazione angolare esiste quella spaziale $\\xi(r)$, che esprime la probabilita\\` di trovare una galassia entro una distanza $r$ da un'altra. Esistono anche funzioni di correlazione di ordine superiore, che al loro interno contengono anche la probabilita\\` di avere una data disposizione di oggetti. \n",
      "\n",
      "\n",
      "### Spettro di potenza\n",
      "La funzione di correlazione esprime il clustering per punti massa, ovvero e\\` un tracciante della massa su grande scala. Un secondo approccio possibile invece e\\` quello dello \\textbf{spettro di potenza}: in questo senso non si considerano piu\\` dei punti, ma una distribuzione continua di densita\\` $\\rho$, che sara\\` un appiattimento spaziale dei punti traccianti. Esprimendo come $\\delta(x)$ un campo di fluttuazioni di densita\\`, il suo momento di ordine 2 e\\` la varianza del campo fisico di densita\\`: \n",
      "\\begin{equation}\n",
      "\\sigma^2 = \\frac{1}{V}\\int_V \\delta^2(x) d^3x\n",
      "\\end{equation}\n",
      "Ipotizzando che il campo di densita\\` sia omogeneo e isotropo, ossia che valga il principio cosmologico, si puo\\` scrivere:\n",
      "\\begin{equation}\n",
      "\\sigma^2 = \\frac{1}{2\\pi^2}\\int_0^\\infty \\mathcal{P}(k) k^2dk\n",
      "\\end{equation}\n",
      "dove $k$ e\\` la scala spaziale della perturbazione nello spazio di Fourier, e $\\mathcal{P}(k)$ lo spettro di potenza. In pratica esso descrive i contributi a ciascuna scala spaziale della varianza del campo di densita\\`. Si dimostra che la funzione di correlazione spaziale e\\` la trasformata di Fourier dello spettro di potenza:\n",
      "\\begin{equation}\n",
      "\\xi(r) = \\frac{1}{(2\\pi)^3}\\int\\mathcal{P}(k)e^{ik\\cdot r} d^3 k\n",
      "\\end{equation}\n",
      "Operativamente, si puo\\` vedere che su grandi scale spaziali (piccoli $k$) si ha $\\mathcal{P}(k) \\propto k$, mentre sulle piccole scale spaziali $\\mathcal{P}(k) \\propto k^{-1.2}$: su grandi scale spaziali lo spettro di potenza, power-law in entrambi i casi, si irripidisce. Poich\\'e in generale si vede che $\\mathcal{P}(k) \\propto k^n$, si ha $\\xi(r) \\propto r^{-(n+3)}$. Essendo poi $r \\propto M^{1/3}$, si puo\\` legare la funzione di correlazione alla massa e di conseguenza trovare:\n",
      "\\begin{equation}\n",
      "\\frac{\\delta \\rho}{\\rho} \\propto M^{-(n+3)/6}\n",
      "\\end{equation}\n",
      "Per grandi scale spaziali il $\\delta\\rho/\\rho \\ll 1$, di conseguenza i fenomeni non lineari che modificano pesantemente lo spettro di potenza sono trascurabili. Sulle piccole scale, invece, esistono fenomeni microfisici che vanno a modificare lo spettro delle fluttuazioni. Lo spettro di potenza si puo\\` anche legare al valore di $\\Omega_m h$, e il best-fit si ha per un valore di 0.25.  \\\\\n",
      "A partire dallo spettro di potenza e\\` possibile definire anche la \\textbf{varianza di massa}, che di fatto e\\` lo spettro $\\mathcal{P}(k)$ moltiplicato per una funzione finestra e integrato su tutto lo spazio dei numeri d'onda. Si puo\\` dimostrare che se la finestra tende a 0, la varianza di massa coincide con la varianza puntuale. La sua introduzione e\\` necessaria in quanto la semplice varianza del campo di densita\\` non e\\` direttamente confrontabile con i dati, ma la distribuzione della materia luminosa delle galassie dev'essere legata a quella globale della materia e mediata su volumi finiti. \n"
     ]
    },
    {
     "cell_type": "markdown",
     "metadata": {},
     "source": [
      "## Lenti gravitazionali\n",
      "Su piccole scale, le perturbazioni del campo di densita\\` causano delle distorsioni spaziotemporali che danno l'effetto noto come \\textbf{lensing gravitazionale}: esso consiste in una distorsione del cammino ottico di un raggio di luce, e quindi nell'amplificazione della luce proveniente dagli oggetti di campo. Questo effetto e\\` una delle prove maggiori a favore della relativita\\` generale. Infatti tale effetto si ricava facilmente dalla metrica di Minkowski:\n",
      "\\begin{equation}\n",
      "ds^2 = \\left(1 + \\frac{2\\Phi}{c^2}\\right)c^2 dt^2 - \\left(1 - \\frac{2\\Phi}{c^2}\\right)dl^2\n",
      "\\end{equation}\n",
      "dove $\\Phi$ e\\` il potenziale gravitazionale. Per i fotoni $ds^2=0$ quindi, ricavato $cdt/dl$, in approssimazione di campo debole $\\Phi \\ll c^2$ si puo\\` sviluppare in serie di Taylor e ottenere: \n",
      "\\begin{equation}\n",
      "n = \\frac{v}{c} = 1 - \\frac{2\\Phi}{c^2}\n",
      "\\end{equation}\n",
      "che e\\` l'indice di rifrazione generato dal campo gravitazionale. Dall'ottica geometrica l'angolo di deflessione generato da tale indice e\\` $\\alpha = 4GM/bc^2$, dove $b$ e\\` il parametro d'urto del fotone (ossia la distanza fra l'oggetto che genera il campo e la traiettoria del fotone). Considerando la lente come un sistema ottico, si hanno due possibili risultati. Se la sorgente si trova sull'asse ottico si forma un anello con dimensioni angolari pari all'angolo di Einstein $\\theta_E$, mentre nel caso generale si formano due immagini, una vicino alla sorgente reale ed una sull'asse ottico. \\\\\n",
      "Le lenti gravitazionali permettono di misurare la massa degli ammassi che le generano, di ricavare parametri cosmologici come la costante di Hubble, e anche di studiare la distribuzione spaziale degli oggetti che subiscono l'effetto. \n"
     ]
    },
    {
     "cell_type": "code",
     "collapsed": false,
     "input": [],
     "language": "python",
     "metadata": {},
     "outputs": []
    }
   ],
   "metadata": {}
  }
 ]
}