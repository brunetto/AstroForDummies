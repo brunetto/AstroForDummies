{
 "metadata": {
  "name": ""
 },
 "nbformat": 3,
 "nbformat_minor": 0,
 "worksheets": [
  {
   "cells": [
    {
     "cell_type": "markdown",
     "metadata": {},
     "source": [
      "# Galassie e mezzo intergalattico"
     ]
    },
    {
     "cell_type": "markdown",
     "metadata": {},
     "source": [
      "## Classificazione morfologica delle galassie\n",
      "### Classificazione di Hubble\n",
      "Il diagramma a diapason (tuning-fork) di Hubble suddivide le galassie in quattro classi morfologiche: **ellittiche**, **lenticolari**, **spirali** e **irregolari**. Oltre due terzo delle galassie sono spirali il 10\\% ellittiche, il 20\\% lenticolari e solo poche sono irregolari. \n",
      "\n",
      "* **Ellittiche:** le ellittiche appaiono come ovali bidimensionali. Si classificano con la lettera E seguita da un numero in genere compreso fra 0 e 7 che indica l'ellitticita\\` della galassia. Le galassie sferiche sono E0, quelle piu\\` allungate E7. Si noti che tale ellitticita\\` e\\` soltanto apparente, poich\\'e in tre dimensioni l'aspetto della galassia puo\\` essere molto diverso. Le ellittiche sono le galassie piu\\` massiccie, e spesso sono anche piu\\` luminose delle spirali. Non mostrano strutture degne di nota, e hanno una luminosita\\` decrescente dal centro all'esterno. Al loro interno si trovano principalmente stelle vecchie e pochi gas interstellari, assieme a un elevato numero di ammassi globulari, il che le fa apparire molto rosse. \n",
      "* **Lenticolari:** appaiono ellittiche nelle regioni centrali, ma sono circondate da un disco di materia. Si indicano con una SO seguita da un numero che indica la quantita\\` di polveri presenti; le SO3 ad esempio hanno forte assorbimento dovuto a polveri nel disco. Si hanno anche galassie lenticolari che presentano nel centro una struttura simile ad una barra, indicate con SBO seguite dallo stesso numero. Anche le lenticolari presentano principalmente stelle vecchie. \n",
      "* **Spirali:** presentano un rigonfiamento (bulge) nella parte centrale, un disco che lo circonda e un alone tutto attorno, e si classificano con la lettera S. Il disco e\\` piu\\` sottile che nelle lenticolari, e presenta i caratteristici bracci di spirale. La classificazione di Hubble delle spirali si basa proprio sul rapporto fra i bracci e il bulge. Molte spirali, inclusa la Via Lattea, presentano una barra centrale, e sono classificate come SB. L'avvolgimento dei bracci le classifica da Sa (bracci strettamente avvolti) a Sc (bracci poco avvolti). Nelle Sa la velocita\\` di rotazione e\\` molto piu\\` alta che nelle Sc, e il tasso di formazione stellare e\\` molto piu\\` grande, per cui oggi hanno meno stelle nuove, dischi piu\\` rossi e molto piu\\` metalli delle Sc. \n",
      "* **Irregolari:** sono piu\\` piccole rispetto a spirali ed ellittiche, e classificate in IrrI (come la SMC), e IrrII. Le prime sono sistemi lentamente rotanti di piccola massa che non presentano dischi ma hanno un piccolo nucleo. Si suddividono in non barrate (IA), distorte ovalmente (IAB) e barrate (IB). Nelle IrrII sono in corso forti fenomeni di emissione probabilmente dovuti a interazioni fra le stelle. In generale alcune irregolari sono molto blu, e in esse sono in corso intensi fenomeni di formazione stellare. \n",
      "\\end{itemize}\n",
      "### Classificazione di de Vaucouleurs\n",
      "La classificazione delle spirali fu espansa da de Vaucouleurs; introdusse le classi Sd e Sm, oltre a varie classi intermedie (Sab, Sbc...). Quelle di tipo Sm sono dette spirali magellaniche, dal loro prototipo (la LMC). Inoltre le spirali non barrate sono indicate con SA, le barrate da SB e quelle con la barra ovale SAB; osservazioni piu\\` dettagliate mostrano che a volte i bracci non si uniscono al nucleo galattico, ma a un anello che lo circonda: queste vengono indicate con (r), quelle senza anello (s), con classe intermedia (rs). \n",
      "### Classificazione di van den Bergh\n",
      "Poich\\'e sia la brillanza superficiale della galassia sia la morfologia sono funzion della luminosita\\`, si assegna ad ogni galassia una classe di luminosita\\` decrescente da I a V. Non ci sono galassie irregolari nelle prime due classi. La classificazione in pratica divide le galassie in base al rapporto disco-bulge nelle sottoclassi a, b, c, alla presenza della barra e alla forma dei bracci. \n"
     ]
    },
    {
     "cell_type": "markdown",
     "metadata": {},
     "source": [
      "## Struttura del Gruppo Locale\n",
      "Il Gruppo Locale e\\` un sistema di una trentina di galassie, dominato dalla Via Lattea e da M31. Assieme a M33, una piccola spirale, questi tre corpi emettono il 90% della luminosita\\` totale del gruppo, e contribuiscono al 90\\% della massa. Ovviamente non tutte le galassie del gruppo sono state scoperte, in quanto alcune zone del cielo sono nascoste dal nucleo della Via Lattea. Si puo\\` comunque osservare come la maggior parte degli oggetti siano galassie irregolari, satelliti di M31 o della Via Lattea. C'e\\` una sola ellittica, M32, satellite di Andromeda; esistono comunque anche corpi non legati alle due spirali giganti. Le nubi di Magellano sono i due oggetti piu\\` vicini, e in esse si possono risolvere le singole stelle. Di recente si e\\` osservata anche una nana in fase di merging con la Via Lattea; le sue stelle si individuano nel diagramma HR, distinguendole da quelle del campo. \n",
      "\n",
      "A 17.6 Mpc si trova l'_ammasso della Vergine_, composto da piu\\` di mille oggetti. Al centro si trovano tre ellittiche giganti, circondate da gas caldo che emette nell'X. Questo ammasso e\\` una piccola parte del _superammasso Hydra-Centaurus_; un altro superammasso, in direzione opposta, e\\` quello di Perseus-Pisces, e degni di nota sono anche Coma e Pavo. Sul piano del cielo le galassie appaiono distribuite lungo un cerchio massimo, detto _piano supergalattico_, su cui si puo\\` definire un sistema di coordinate. \n"
     ]
    },
    {
     "cell_type": "markdown",
     "metadata": {},
     "source": [
      "## Galassie attive\n",
      "### Galassie di Seyfert\n",
      "Le galassie di Seyfert sono una categoria di galassie che presentano forti righe di emissione di gas ionizzato in condizioni di bassa densita\\`. Le tracce caratteristiche nel loro spettro, a parte le righe in emissione della serie di Balmer, sono le righe proibite di [OIII], [OII] e [SII], oltre a [NII] e altre transizioni proibite. Le Seyfert sono suddivise in due categorie, I e II, a seconda della presenza o meno di una componente larga delle righe, proveniente quindi da una regione con forte velocita\\` di rotazione. Questa componente e\\` visibile soltanto nelle S2, mentre nelle S1 e\\` visibile solo in luce polarizzata. Tale fatto ha portato a concludere che i due tipi di galassie siano in realta\\` lo stesso fenomeno, visto sotto diversa orientazione. Nelle S2 le regioni centrali della galassia, la cosiddetta BLR, sono direttamente visibili, cosi\\` come la NLR da cui provengono le componenti strette delle righe. Nelle S1 invece la BLR e\\` oscurata dalla presenza di un toro di polveri che la circonda, e che ne filtra la luce polarizzandola. \n",
      "### Galassie Markarian\n",
      "Sono una sottospecie di Seyfert che in comune presentano un eccesso nel continuo blu-UV. Markarian ne individuo\\` circa 1500, ma restava da capire se tali galassie fossero una classe a parte oppure se fossero soltanto un insieme di oggetti con una caratteristica comune. In seguito e\\` stato determinato che essere non costituiscono una classe a parte, ma sono piuttosto un insieme di diversi tipi di oggetti, fra cui Seyfert. Alcune stime mostrano che circa il 5\\% di tutte le galassie presentino l'eccesso nel continuo UV. \n",
      "### Quasar \n",
      "Sono una classe di nuclei attivi che presenta righe di emissione estremamente larghe, corrispondenti a velocita\\` fino a 10000 $km$ $s^{-1}$, e in particolare hanno righe dell'idrogeno molto intense. In generale il loro spettro e\\` simile a quello delle S1 piu\\` luminose. La maggior parte dei quasar presenta deboli emissioni radio, tuttavia ve ne sono alcuni, detti _radio-loud_, che sono estremamente luminosi nelle basse frequenze, in cui l'emissione radio e\\` legata a un getto di elettroni relativistici. Come nelle S1, le righe indicano la presenza di una BLR localizzata nel centro della galassia; la separazione fra Seyfert e quasar e\\` posta a una $M_v = -23$, ma l'arbitrarieta\\` di questo limite mostra come la distinzione fra le due classi sia di fatto inesistente. In generale, i quasar sono compresi fra $0.1 < z < 5$. Nel continuo alcuni di questi oggetti mostrano un eccesso blu-UV, interpretato come l'emissione di un disco di accrescimento di un buco nero supermassivo con temperatura di 30000 $K$. I quasar sono oggetti rapidamente variabili, alcuni con tempi scala nel visibile di qualche giorno (_Optically Violently Variable Quasars_), altri nell'X addirittura di ore. \n",
      "### LINERs \n",
      "I LINERs (**Low Ionization Nuclear Emission Line Region Galaxies**), sono un'altra classe di galassie che presenta righe di emissione, anch'esse provenienti dal nucleo ma con un grado di ionizzazione molto inferiore a quello di Seyfert e Quasar. Esse sono una classe intermedia fra le Seyfert e le galassie HII, e principalmente costituita da Sa e Sb, oltre ad alcune Sc e ad altri oggetti peculiari. In generale non e\\` ancora chiaro se il meccanismo di ionizzazione sia un nucleo attivo o solo regioni di forte formazione stellare. \n",
      "### BLAZAR \n",
      "Sono un gruppo di oggetti che presentano uno spettro piatto radio-loud e forte variabilita\\`. Sono suddivisi in due tipi di oggetti, OVV e oggetti BL-Lacertae. Oltre al buco nero centrale, essi presentano due getti di plasma perpendicolari al disco di accrescimento, orientati dal campo magnetico della regione, in cui elettroni e protoni si muovono a velocita\\` fra $0.95c$ e $0.99c$. Le galassie ospiti sono ellittiche giganti. A parte le supernovae, sono gli oggetti con la piu\\` ampia variazione di luminosita\\` nota nell'universo; i tempi scala sono cosi\\` brevi che probabilmente l'emissione avviene a meno di un parsec dal buco nero centrale.\n",
      "### Modello unificato degli AGN\n",
      "In base alle osservazioni e\\` stato formulato un modello che permette di unificare tutte le diverse classi di nuclei attivi. Secondo tale teoria esse sono la stessa classe di oggetti osservata da diverse angolazioni. Se il nucleo attivo e\\` oscurato dalle polveri, cioe\\` la galassia e\\` di taglio rispetto alla linea di vista, l'oggetto sara\\` una semplice radiogalassia se l'emissione dei getti di plasma e\\` dominante, o una Seyfert-2 in caso contrario. Se il nucleo attivo e\\` solo parzialmente visibile, si osservera\\` un quasar o una Seyfert-1; infine se la linea di vista coincide con l'asse dei getti di gas l'oggetto si comportera\\` come un blazar. \n"
     ]
    },
    {
     "cell_type": "markdown",
     "metadata": {},
     "source": [
      "## Cinematica delle galassie\n",
      "La curva di rotazione descrive l'andamento della velocita\\` radiale in funzione della distanza dal centro. Nelle galassie a spirale la forma generale e\\` data da un primo tratto di rotazione rigida, con $v \\propto r$, e un secondo tratto in cui la velocita\\` e\\` costante. Il tratto rigido implica una densita\\` costante, mentre quello piatto una densita\\` decrescente secondo $r^{-2}$. Teoricamente il tratto orizzontale non dovrebbe esistere: in base alla densita\\` osservata infatti in quella zona la velocita\\` dovrebbe diminuire in proporzione a $r^{-1/2}$: questa differenza notevole viene attribuita alla \\textbf{materia oscura}, distribuita in un alone che avvolge l'intera galassia. \n",
      "Le curve di rotazione di gas e stelle sono in sostanza coincidenti, fatta eccezione che nel bulge, dove le stelle sembrano avere meta\\` della velocita\\` del gas: tuttavia si deve tener conto del fatto che difficilmente il gas ha orbite regolari intorno al nucleo, quindi e\\` possibile che la deviazione sia dovuta a queste forti velocita\\` non circolari. Si verifica una stretta relazione fra la luminosita\\` di una galassia a spirale e la sua curva di rotazione; tale legge e\\` nota come **Tully-Fisher**: \n",
      "\\begin{equation}\n",
      "L = cost \\cdot V_{max}^4\n",
      "\\end{equation}\n",
      "In effetti si osservano velocita\\` maggiori nelle galassie di tipo Sa, e minori per le Sc; questo puo\\` dipende dall'aumentare del rapporto disco-bulge dalle Sc alle Sa. Usando la TF si ottiene la distanza di una galassia dalla sua curva di rotazione. Sapendo poi che la brillanza delle spirali diminuisce esponenzialmente con il raggio e la massa con $1/r$, il rapproto $M/L$ dovra\\` aumentare con il raggio: tuttavia si deve tenere conto anche della materia oscura, che ne modifica il valore. Nelle galassie piu\\` blu il rapporto $M/L$ e\\` molto piu\\` grande di quello $M_{vis}/L$, mentre in quelle early sembra non sia contenuta molta materia oscura. \n",
      "\n",
      "Nelle galassie ellittiche la curva di rotazione e\\` assente, e si studia generalmente la velocita\\` di dispersione del gas e delle stelle. Analogamente alle spirali, anche per le ellittiche esiste una relazione che lega luminosita\\` e dispersione di velocita\\`:\n",
      "\\begin{equation}\n",
      "L_e \\propto \\sigma_0^4\n",
      "\\end{equation}\n",
      "Tale relazione e\\` nota come **Faber-Jackson**. Poich\\'e $\\sigma_0$ e\\` il valore di dispersione centrale, le galassie piu\\` luminose hanno anche $\\sigma$ molto grande. Altra fondamentale relazione lega il raggio dell'ellittica alla sua luminosita\\` totale, ed e\\` la \\textit{relazione di Kormendy}: \n",
      "\\begin{equation}\n",
      "R_e \\propto <I_e>^{-0.83\\pm 0.08}\n",
      "\\end{equation}\n",
      "dove $I_e$ e\\` la brillanza superficiale media entro $R_e$. La luminosita\\` entro $R_e$ quindi e\\` $L_e = \\pi <I_e> R_e^2$, da cui $<I_e> \\propto L^{-3/2}$. Sia la Faber-Jackson che la Kormendy presentano pero\\` uno scarto sistematico, indipendente dagli errori di misura. La relazione migliora notevolmente se si considerano tre parametri anzich\\'e due come nelle due leggi. L'analisi delle componenti principali mostra che i parametri che minimizzano lo scarto sono $R_e$, $I_e$ e $\\sigma_0$. La loro combinazione lineare definisce un piano lungo cui si dispongono le galassie, noto come \\textbf{piano fondamentale}. A partire dal teorema del viriale si trova infatti:\n",
      "\\begin{equation}\n",
      "r_e = \\frac{c_1}{22.665} \\left(\\frac{M}{L}\\right)^{-1} \\sigma_0^2 I_e^{-1}\n",
      "\\end{equation}\n",
      "Le galassie tuttavia giacciono su una retta un po' inclinata rispetto a questa legge prevista teoricamente, in quanto il rapporto $M/L$ cambia pesantemente fra le varie galassie. Tale scarto e\\` noto come _tilt del piano fondamentale_. \n"
     ]
    },
    {
     "cell_type": "markdown",
     "metadata": {},
     "source": [
      "## Profili fotometrici delle galassie\n",
      "### Legge $r^{1/4}$\n",
      "La prima legge che si puo\\` utilizzare per descrivere i profili di luminosita\\` delle galassie ellittiche e dei bulge delle spirali e\\` quella di de Vaucouleurs, o _legge_ $r^{1/4}$: \n",
      "\\begin{equation}\n",
      "I(r) = I_e e^{-7.67\\left[\\left(\\frac{r}{r_e}\\right)^{1/4} -1 \\right]}\n",
      "\\end{equation}\n",
      "dove $r_e$ e\\` il raggio efficace e $I_e$ la brillanza efficace. Per alcuni oggetti tale legge descrive perfettamente il profilo di brillanza, in altre invece presenta deviazioni. A piccoli raggi nelle osservazioni da terra interviene il seeing, che fa apparire i profili di brillanza meno piccati di quanto non siano in realta\\`, ma vi sono galassie che presentano deviazioni intrinseche dalla legge. Altri invece deviano dalla relazione per eccesso a grandi raggi, in particolare quando sono presenti compagne vicine, a causa degli effetti mareali di queste ultime. \n",
      "### Legge di Hubble\n",
      "Altra legge che descrive il profilo di brillanza delle ellittiche e\\` la _legge di Hubble_: \n",
      "\\begin{equation}\n",
      "I(r) = \\frac{I_0}{\\left[1 + \\frac{r}{r_0}\\right]^2}\n",
      "\\end{equation}\n",
      "dove $r_0$ e\\` il raggio di scala e $I_0$ la brillanza centrale. Tale legge differisce significativamente dalla $r^{1/4}$ al centro, dove fornisce brillanze minori, e all'esterno, dove al contrario e\\` maggiore, e tiene quindi conto dell'eccesso di luce dovuti ai fenomeni di cannibalismo. \n",
      "### Legge di King\n",
      "La _legge di King_ e\\` l'unica legge derivata teoricamente per un sistema stellare a simmetria sferica in cui la dispersione di velocita\\` delle stelle e\\` isotropa e costante. Fu introdotta per descrivere l'andamento radiale della densita\\` di stelle negli ammassi globulari, ma trova tuttavia applicazione anche nei profili di brillanza delle galassie nane. \n",
      "\\begin{equation}\n",
      "I(R) = k\\left[\\left(1 + \\frac{R^2}{r_c^2}\\right)^{-1/2} + \\left(1 + \\frac{R^2}{r_t^2}\\right)^{-1/2}\\right]^2 \n",
      "\\end{equation}\n",
      "$r_c$ e\\` il raggio di core, ovvero la distanza dal centro lungo una direzione di $45^\\circ$ dagli assi principali a cui la brillanza e\\` meta\\` di quella centrale, e $r_t$ e\\` il raggio mareale, mentre $k$ e\\` la brillanza superficiale di scala. Rispetto alla $r^{1/4}$, la legge di King e\\` piu\\` piatta al centro e troncata nelle regioni esterne, perch\\'e le galassie nane che descrive non presentano alcun alone. \n",
      "### Legge di Freeman\n",
      "Quarta e\\` la _legge esponenziale di Freeman_, che rappresenta una buona descrizione per la brillanza dei dischi di spirale. \n",
      "\\begin{equation}\n",
      "I(r) = I_0 e^{-\\frac{r}{h}}\n",
      "\\end{equation}\n",
      "dove $h$ e\\` il raggio di scala, ovvero il raggio per cui la luminosita\\` si riduce di un fattore $e$, e $I_0$ e\\` la brillanza centrale. Freeman distinse fra galassie di tipo I e II, a seconda che presentino nella transizione disco-bulge un difetto o un eccesso rispetto all'equazione.\n"
     ]
    },
    {
     "cell_type": "markdown",
     "metadata": {},
     "source": [
      "## Massa delle galassie\n",
      "Nelle spirali la massa delle galassie si puo\\` ottenere dalla curva di rotazione. Assumendo che il gas nel disco sia in equilibrio dinamico e che le forze di pressione siano trascurabili cosi\\` come la dispersione di velocita\\` del gas, dalla rotazione si stima il potenziale gravitazionale, e dalle equazioni di Poisson e\\` possibile determinare la densita\\` in ogni punto. Integrando si ricava la massa. Un metodo simile si applica nelle ellittiche partendo dalla dispersione di velocita\\`. Dal teorema del viriale, per sistemi sferici risulta: \n",
      "\\begin{equation}\n",
      "M = 0.2 r_e d \\sigma^2\n",
      "\\end{equation}\n",
      "dove $d$ e\\` la distanza della galassia in pc. La massa si puo\\` anche stimare come funzione della distanza dal centro usando le equazioni dell'idrodinamica stellare, a patto di conoscere la densita\\` del tracciante stellare e le dispersioni di velocita\\` tangenziale e radiale. Infine, ipotizzando che l'alone della galassia sia una sfera di gas isotermo, dall'equilibrio idrostatico si puo\\` ricavare la massa. \n"
     ]
    },
    {
     "cell_type": "markdown",
     "metadata": {},
     "source": [
      "## Funzione di luminosita\\`\n",
      "La funzione di luminosita\\` per le galassie riflette la loro struttura fisica e la loro evoluzione. Matematicamente la funzione e\\` tale che:\n",
      "\\begin{equation}\n",
      "\\nu = \\int_{-\\infty}^{+\\infty} \\Phi(M) dM\n",
      "\\end{equation}\n",
      "dove $\\nu$ e\\` il numero di galassie per unita\\` di volume. In sostanza essa esprime il numero di galassie per ciascun intervallo di magnitudine. Il problema di questa funzione e\\` che si ha un effetto di selezione: a grandi distanze non si osservano galassie con luminosita\\` piccole, dunque la coda di alte magnitudini e\\` molto incerta. Eliminata la dipendenza dall'ambiente, la forma della funzione e\\` semplice, con un numero di galassie sempre minore al crescere della luminosita\\`. Oltre il valore $M^*$, detta _magnitudine caratteristica_, il loro numero cala esponenzialmente. La parametrizzazione piu\\` usata e\\` quella di Schechter in funzione della luminosita\\`:\n",
      "\\begin{equation}\n",
      "\\Phi(L) = \\frac{\\Phi^*}{L^*} \\left(\\frac{L}{L^*}\\right)^\\alpha e^{-\\frac{L}{L^*}}\n",
      "\\end{equation}\n",
      "dove $L^*$ e\\` la luminosita\\` caratteristica, $\\alpha$ descrive la pendenza della curva a basse luminosita\\` e $\\Phi^*$ e\\` la normalizzazione. \n",
      "\n",
      "La funzione e\\` stata studiata dalla SLOAN per verificare l'evoluzione delle galassie, poich\\'e confronti fra ampi campioni di oggetti forniscono importanti informazioni. Arrivando fino a $z=4$ l'evoluzione e\\` evidente: in generale all'aumentare di $z$ le galassie diventano piu\\` luminose, ma meno abbondanti. Questo permette di capire come il tasso di formazione stellare, legato alla luminosita\\` ultravioletta, fosse piu\\` grande in passato. A grandi redshift e\\` difficile osservare a causa delle polveri. \n",
      "\n",
      "Il grafico della funzione evidenzia una diminuzione della luminosita\\` nei tipi morfologici avanzati, e non solo: con il tempo cambia infatti la frazione di galassie di un determinato tipo rispetto al totale. La LF dipende dall'ambiente: nelle regioni poco dense le ellittiche sono quasi assenti, mentre a grandi densita\\` le spirali si fanno piu\\` rare e le ellittiche sono piu\\` diffuse. Le lenticolari hanno un trend simile a quello delle ellittiche, ma meno marcata. Questa caratteristica si spiega facilmente con il merging, che distrugge le spirali in regioni dense. \n"
     ]
    },
    {
     "cell_type": "markdown",
     "metadata": {},
     "source": [
      "## Buchi neri galattici\n",
      "La prova dell'esistenza di questi oggetti e\\` l'evoluzione della funzione di luminosita\\` dei quasar con il redshift. Essi sono sempre meno luminosi verso bassi $z$, il che indica una diminuzione di attivita\\` della loro sorgente centrale, costituita da un buco nero supermassivo. Per trovarne la massa si hanno diversi metodi: il primo e\\` quello dell'emissione X, dove si trova la riga $k\\alpha$\n",
      "del ferro completamente ionizzato, generata in regioni caldissime a pochi raggi di Schwarzchild dal buco nero. Essa mostra distorsioni relativistiche dovute al campo gravitazionale, e lo studio della sua variabilita\\` permette di tracciare la massa del buco nero. Un altro modo e\\` quello di misurare il moto proprio delle stelle vicine al nucleo, come e\\` stato fatto per la Via Lattea, che orbitano intorno a un oggetto non visibile di $3.6\\times10^6$ $M_\\odot$. Anche i flare possono essere utili per rilevare buchi neri: il rilevamento di uno di essi in una ellittica quiescente ha fornito la prima prova della presenza di questi oggetti anche nel centro delle galassie non attive. In generale la sfera di influenza gravitazionale di un buco nero ha raggio:\n",
      "\\begin{equation}\n",
      "R_{inf} = \\frac{GM_{BH}}{\\sigma^2}\n",
      "\\end{equation}\n",
      "dove $\\sigma$ e\\` la dispersione di velocita\\` delle stelle circostanti. Tale sfera e\\` molto piccola, e fino ad ora per rilevarne la presenza e\\` stato necessario HST. \n"
     ]
    },
    {
     "cell_type": "markdown",
     "metadata": {},
     "source": [
      "## Teoria delle orbite\n",
      "La forma delle orbite delle stelle in una galassia dipende dal potenziale gravitazionale dell'oggetto. Nel caso di potenziale sferico statico centrale, le orbite sono descritte dalle leggi di Keplero, e possono essere slegate o legate. Per queste ultime si possono definire pericentro e apocentro come i valori minimo e massimo del raggio vettore fra la stella e il nucleo galattico; si definisce inoltre come _periodo radiale_ come il tempo impiegato dalla stella a tornare al pericentro. Tuttavia esso puo\\` non essere fisso nel tempo, ma bensi\\` muoversi di continuo attorno al centro, come in un'orbita a rosetta. Si definisce allora \\textit{periodo azimutale} come il tempo impiegato dalla stella a percorrere un angolo di $2\\pi$. \\\\\n",
      "Nel caso di un potenziale assisimmetrico, descrivibile tramite coordinate cilindriche, si costruisce un potenziale efficace funzione di $R$ e del momento angolare $L_z$, che semplifica le equazioni rendendole simili a quelle di un oscillatore armonico. Le stelle a questo punto saranno confinate entro superfici equipotenziali che potranno toccare solo con velocita\\` nulla. Se l'oggetto si trova in un minimo di potenziale, esso si muovera\\` di moto circolare uniforme attorno al centro; se si trova in un punto di coordinate $(R, 0)$, ovvero sul piano di simmetria del potenziale, si spostera\\` su un'orbita a rosetta. Infine per coordinate generiche $(R, z)$ essa si muovera\\` all'interno di un toro come un oscillatore armonico in $R$ e in $z$. \\\\\n",
      "Nel terzo e ultimo caso, il potenziale non assisimmetrico come, ad esempio, quello logaritmico, si hanno delle superfici equipotenziali che sono ellissi concentriche. Questo potenziale e\\` quello che si riscontra piu\\` spesso in natura, e da\\` origine a due tipi di orbite. Una prima categoria sono le orbite \\textbf{box}, descritte da due oscillatori armonici; esse si distribuiscono sull'intera galassia, e possono passare anche per il centro senza un verso di percorrenza definito. La seconda categoria e\\` quella delle orbite \\textbf{loop}, non risolvibili per via analitica e simili a delle rosette ellittiche. Tali orbite non passano mai per il centro, e hanno un verso di percorrenza definito. Se il potenziale e\\` meno assisimmetrico, la regione delle orbite loop si riduce, e la galassia e\\` dominata da quelle box: queste ultime, essendo allungate e strette, possono originare le barre delle galassie. \n"
     ]
    },
    {
     "cell_type": "code",
     "collapsed": false,
     "input": [],
     "language": "python",
     "metadata": {},
     "outputs": []
    }
   ],
   "metadata": {}
  }
 ]
}