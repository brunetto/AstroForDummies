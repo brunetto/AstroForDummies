{
 "metadata": {
  "name": ""
 },
 "nbformat": 3,
 "nbformat_minor": 0,
 "worksheets": [
  {
   "cells": [
    {
     "cell_type": "markdown",
     "metadata": {},
     "source": [
      "# Math and physics"
     ]
    },
    {
     "cell_type": "markdown",
     "metadata": {},
     "source": [
      "## Principi della termodinamica\n",
      "\n",
      "Il primo principio della termodinamica afferma che:\n",
      "\\begin{equation}\n",
      " Q = \\Delta U + W\n",
      "\\end{equation}\n",
      "Ovvero il calore scambiato da un sistema termodinamico con l'ambiente e\\` uguale alla somma dell'energia interna del sistema e del lavoro compiuto dall'ambiente su di esso. $\\Delta U$ e\\` una funzione di stato, dunque non dipende dal tipo di trasformazione. Il primo principio non pone limiti alle trasformazioni di energia da una forma all'altra, pero\\` sperimentalmente non esiste questa stessa simmetria. Se e\\` possibile trasformare integralmente il lavoro in calore, ad esempio sfruttando l'attrito, la trasformazione contraria di calore in lavoro e\\` limitata. Esistono due enunciati di questo _secondo principio della termodinamica_: il primo (di Kelvin-Planck) afferma che e\\` impossibile realizzare un processo che abbia come unico risultato la trasformazione in lavoro del calore fornito da una sorgente a temperatura uniforme. Il secondo (di Clausius) dice che \\`e impossibile realizzare un processo che abbia come unico risultato il trasferimento di una quantita\\` di calore da un corpo a un altro a temperatura maggiore. \n"
     ]
    },
    {
     "cell_type": "markdown",
     "metadata": {},
     "source": [
      "## Teorema del viriale \n",
      "Il teorema del viriale afferma che in un sistema vale:\n",
      "\\begin{equation}\n",
      " 2T = U\n",
      "\\end{equation}\n",
      "Dove $T$ rappresenta l'energia cinetica del sistema, e $U$ il potenziale gravitazionale. \n",
      "\\begin{equation}\n",
      "R = c\\cdot\\tau\n",
      "\\end{equation}"
     ]
    },
    {
     "cell_type": "markdown",
     "metadata": {},
     "source": [
      "## Equazioni di Maxwell\n",
      "\n",
      "Le equazioni di Maxwell sono la sintesi formale dell'elettromagnetismo. In forma locale sono: \n",
      "\\begin{equation}\n",
      " \\nabla \\cdot \\vec{E} = \\frac{\\rho}{\\epsilon_0}\n",
      "\\end{equation}\n",
      "\\begin{equation}\n",
      " \\nabla \\cdot \\vec{B} = 0\n",
      "\\end{equation}\n",
      "\\begin{equation}\n",
      " \\nabla \\times \\vec{E} = -\\frac{\\partial \\vec{B}}{\\partial t}\n",
      "\\end{equation}\n",
      "\\begin{equation}\n",
      " \\nabla \\times \\vec{B} = \\frac{\\partial \\vec{E}}{\\partial t} + \\vec{j}\n",
      "\\end{equation}\n",
      "I campi $E$ e $B$ soluzioni delle equazioni di Maxwell si possono esprimere mediante dei potenziali scalare e vettore, $\\phi$ e $A$, nella forma: \n",
      "\\begin{equation}\n",
      " \\vec{B} = \\nabla \\times \\vec{A} \n",
      "\\end{equation}\n",
      "\\begin{equation}\n",
      "\\vec{E} = -\\nabla\\phi - \\frac{\\partial}{\\partial t} \\vec{A}\n",
      "\\end{equation}"
     ]
    },
    {
     "cell_type": "markdown",
     "metadata": {},
     "source": [
      "## Effetto Doppler\n",
      "\n",
      "### Doppler classico\n",
      "\n",
      "L'effetto Doppler e\\` un fenomeno che coinvolge onde emesse o ricevute da una sorgente o da un osservatore in moto. In un sistema di riferimento inerziale solidale al mezzo in cui si propagano le onde, si distinguono i due casi. \\\\\n",
      "1) La sorgente si muove rispetto al mezzo mentre l'osservatore e\\` in quiete. Se $v_s$ e\\` la velocita\\` dello spostamento della sorgente e $v$ quella delle onde, a ogni istante ogni fronte d'onda e\\` una superficie sferica con centro nella posizione (variabile) occupata dalla sorgente all'istante di emissione. Un fronte d'onda emesso all'istante $t_0$ raggiunge un punto $M$ posto a distanza $r$ all'istante $t_0 + r/v$. Dopo un periodo $T$ la sorgente ha percorso $v_sT$ e il fronte d'onda emesso a $t_0 + T$ raggiunge $M$ all'istante $t_0 + T + r'/v$. Per l'osservatore in $M$ il periodo delle onde in arrivo e\\` dato dalla differenza dei due tempi, $T + (r'-r)/v$. Se le distanze sono grandi, si puo\\` approssimare $r'-r \\sim v_sT \\cos\\theta_s$, dove $\\theta_s$ e\\` l'angolo fra la direzione del moto e $M$. Sostituendo nel periodo e ricavando la frequenza si ha:\n",
      "\\begin{equation}\n",
      "\\nu_M = \\frac{\\nu}{1 - \\frac{v_s}{v}}\\cos\\theta_s\n",
      "\\end{equation}\n",
      "Se la sorgente si avvicina all'osservatore $\\theta_s >0$, quindi $\\nu_M > \\nu$, e viceversa. \\\\\n",
      "2) La sorgente e\\` in quiete mentre l'osservatore si muove rispetto al mezzo. Considerando le onde piane, se l'osservatore si muove con velocita\\` $v_M$ inclinata di $\\theta$ rispetto all'asse di propagazione delle onde, rispetto a $M$ le onde si spostano con velocita\\` $v - v_M\\cos\\theta$, quindi il numero di onde viste da $M$ nell'unita\\` di tempo, ossia la frequenza, e\\`:\n",
      "\\begin{equation}\n",
      "\\nu_0 = \\left( 1 - \\frac{v_M}{v}\\cos\\theta\\right) \\nu\n",
      "\\end{equation}\n",
      "Se $M$ si avvicina alla sorgente $\\cos\\theta < 0$, quindi $\\nu_0 > \\nu$, altrimenti si ha la situazione opposta. Se anche la sorgente si muove rispetto al mezzo la frequenza e\\` data dall'ultima relazione in cui $\\nu$ dev'essere sostituito da $\\nu_M$. \n",
      "\n",
      "### Doppler relativistico\n",
      "\n",
      "Tale fenomeno si osserva soprattutto per le onde elettromagnetiche. La luce emessa dalla superficie di una stella a frequenza $\\nu_*$ raggiungera\\` un osservatore lontano con frequenza $\\nu_\\infty$, sempre inferiore a $\\nu_*$. Questo e\\` il cosiddetto \\textit{redshift gravitazionale}. Il potenziale gravitazionale di una stella infatti e\\` dato da $\\Phi = -GM/R$. Dalla metrica si ottiene:\n",
      "\\begin{equation}\n",
      "\\nu_\\infty = \\nu_*\\sqrt{1 - \\frac{GM}{Rc^2}}\n",
      "\\end{equation}\n",
      "In prima approssimazione la radice si puo\\` sviluppare in serie, ottenendo un risultato valido solo per piccole masse. Cio\\` che accade in sostanza e\\` che un fotone emesso in una buca di potenziale perde energia per uscirne, e di conseguenza subisce un redshift. "
     ]
    },
    {
     "cell_type": "markdown",
     "metadata": {},
     "source": [
      "## Scattering Thomson e Compton, radiazione di sincrotrone, free-free\n",
      "\n",
      "### Radiazione di sincrotrone\n",
      "\n",
      "La radiazione di sincrotrone si origina da elettroni relativistici in moto in un campo magnetico. In base alla forza di Lorentz, gli elettroni saranno deviati lungo traiettorie circolari o spiraleggianti, ma a causa dell'accelerazione centripeta le cariche emettono e vengono quindi frenate. Tale emissione avviene in un cono di raggio $1/\\gamma$, dove $\\gamma$ e\\` il fattore relativistico. La distribuzione spettrale della radiazione dipende dalla distribuzione energetica degli elettroni: se ad esempio una delle due e\\` a power-law, lo stesso deve valere per l'altra. Il continuo di sincrotrone si origina insomma nel mezzo interstellare, e infatti e\\` correlato ai bracci a spirale della galassia in cui e\\` concentrato il campo magnetico, e si estende in un ampio intervallo di spettro, dal radio fino agli X. E\\` stato insomma possibile stimare il valore del campo magnetico della galassia, misurato in circa 10 microgauss. \n",
      "\n",
      "A causa della perdita di energia degli elettroni, lo spettro di sincrotrone si modifica nel tempo. In particolare si introduce un'energia di taglio nello spettro energetico delle cariche al di sotto del quale la forma resta immutata, mentre per energie superiori crolla rapidamente a zero. Allo stesso modo lo spettro elettromagnetico appare mutato, evidenziando una frequenza di taglio corrispondente alla massima energia degli elettroni. Lo studio dello spettro quindi puo\\` fornire indicazioni non solo sulla distribuzione energetica degli elettroni, ma anche sulle modalita\\` di produzione delle particelle relativistiche e, di conseguenza, sull'eta\\` della sorgente. \n",
      "\\subsection{Emissione di free-free}\n",
      "L'emissione di free-free e\\` il prodotto di collisioni fra elettroni e ioni; a causa delle accelerazioni che gli elettroni subiscono passando in prossimita\\` dei nulei, si verificano una serie di transizioni tra stati liberi o tra stati liberi e legati con conseguente emissione di fotoni. Il risultato e\\` un continuo in emissione negli spettri radio, visibile e X, o assorbimenti dipendenti dalla temperatura della nebulosa in cui avvengono. L'assorbimento di free-free e\\` basso per alte temperature, e la profondita\\` ottica tende ad aumentare al diminuire della frequenza, dunque le nebulose sono opache nel radio: per le regioni HII la lunghezza d'onda a cui corrisponde profondita\\` ottica unitaria e\\` circa di 1.5 $m$, mentre per le nebulose planetarie e\\` vicina a 0.5$m$. Il meccanismo di free-free inoltre spiega l'emissione radio da parte delle nubi HII come la Nebulosa di Orione, caratterizzate da una brillanza crescente con la frequenza fino a un valore oltre il quale lo spettro diventa piatto (quello corrispondente alla profondita\\` ottica 1). Questa frequenza di turnover dello spettro consente di misurare la densita\\` elettronica di ciascuna nube, sebbene il valore ricavato sia soltanto l'estremo inferiore di $n_e$, poich\\'e la misura diluisce la materia lungo tutta la linea di vista, mentre se essa e\\` concentrata in nubi piu\\` piccole il suo valore reale sara\\` piu\\` grande.\n",
      "\n",
      "## LASER e MASER\n",
      "\n",
      "I fenomeni LASER e MASER dipendono dalle transizioni spontanee fra i livelli negli atomi polielettronici o nelle molecole. Maggiore e\\` il salto di energia fra due livelli, maggiore e\\` l'emissione spontanea di radiazione. A temperatura ambiente il rapporto fra il tasso di emissione e di assorbimento e\\` tuttavia fortemente a favore di quest'ultima, a meno di non invertire in qualche modo le popolazioni dei livelli. Un metodo per farlo e\\` il pompaggio ottico: una lampada pompa gli elettroni su dei livelli con vita media corta, e questi scaricano rapidamente su un livello metastabile a energia inferiore, con vita media molto piu\\` lunga ($10^{-3}$ s). Quando questo livello si disecitta emette radiazione con un $\\Delta E$ molto piccolo, essendo $\\Delta t$ molto grande, e questi fotoni stimolano emissioni negli altri atomi, dando origine a un processo a cascata. Per questo insomma la radiazione LASER e\\` quasi monocromatica. \n",
      "\n",
      "Il MASER e\\` un fenomeno analogo, ma avviene nelle microonde. Dal punto di vista astrofisico si registrano diversi fenomeni di questo tipo, come ad esempio il MASER dell'acqua: tali molecole infatti possono subire l'inversione di popolazione nelle regioni di formazione stellare, emettendo una riga molto brillante a circa 22 GHz. Il pompaggio nei livelli superiori e\\` in questo caso di tipo chimico: le molecole di acqua si formano gia\\` eccitate, e in seguito i livelli si scaricano dando origine all'effetto a cascata per emissione indotta. Conseguenza di cio\\` e\\` il fatto che la radiazione e\\` completamente polarizzata, a patto che lo sia il fotone progenitore. L'attivita\\` MASER ha bisogno di due condizioni fondamentali: una densita\\` del gas abbastanza elevata per garantire un'opacita\\` sufficiente all'emissione indotta, e una sorgente centrale di alta luminosita\\` ($L > 10 L_{\\odot}$) che fornisca l'energia per il pompaggio. Vi sono due tipi di MASER: quelli interstellari, associate a regioni di formazione stellare di stelle OB, oppure stellari, associati quindi all'inviluppo di stelle di tipo spettrale M. La distanza di questi ultimi si puo\\` stimare dal ritardo di fase fra le due componenti del MASER, provenienti dai lati opposti della stella. \n"
     ]
    },
    {
     "cell_type": "code",
     "collapsed": false,
     "input": [],
     "language": "python",
     "metadata": {},
     "outputs": []
    }
   ],
   "metadata": {}
  }
 ]
}